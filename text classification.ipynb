{
 "cells": [
  {
   "cell_type": "code",
   "execution_count": 1,
   "id": "06fc21e7",
   "metadata": {},
   "outputs": [],
   "source": [
    "import pandas as pd\n",
    "import numpy as np\n",
    "from nltk.tokenize import word_tokenize\n",
    "from nltk import pos_tag\n",
    "from nltk.corpus import stopwords\n",
    "from nltk.stem import WordNetLemmatizer\n",
    "from sklearn.preprocessing import LabelEncoder\n",
    "from collections import defaultdict\n",
    "from nltk.corpus import wordnet as wn\n",
    "from sklearn.feature_extraction.text import TfidfVectorizer\n",
    "from sklearn import model_selection, naive_bayes, svm\n",
    "from sklearn.metrics import accuracy_score\n",
    "from sklearn.metrics import classification_report\n",
    "from sklearn.metrics import confusion_matrix\n",
    "import matplotlib.pyplot as plt\n",
    "import seaborn as sns"
   ]
  },
  {
   "cell_type": "code",
   "execution_count": 2,
   "id": "fcd0eb8b",
   "metadata": {},
   "outputs": [],
   "source": [
    "import warnings\n",
    "warnings.filterwarnings('ignore')"
   ]
  },
  {
   "cell_type": "code",
   "execution_count": 3,
   "id": "4ac7d22d",
   "metadata": {},
   "outputs": [
    {
     "data": {
      "text/html": [
       "<div>\n",
       "<style scoped>\n",
       "    .dataframe tbody tr th:only-of-type {\n",
       "        vertical-align: middle;\n",
       "    }\n",
       "\n",
       "    .dataframe tbody tr th {\n",
       "        vertical-align: top;\n",
       "    }\n",
       "\n",
       "    .dataframe thead th {\n",
       "        text-align: right;\n",
       "    }\n",
       "</style>\n",
       "<table border=\"1\" class=\"dataframe\">\n",
       "  <thead>\n",
       "    <tr style=\"text-align: right;\">\n",
       "      <th></th>\n",
       "      <th>category</th>\n",
       "      <th>text</th>\n",
       "    </tr>\n",
       "  </thead>\n",
       "  <tbody>\n",
       "    <tr>\n",
       "      <th>0</th>\n",
       "      <td>tech</td>\n",
       "      <td>tv future in the hands of viewers with home th...</td>\n",
       "    </tr>\n",
       "    <tr>\n",
       "      <th>1</th>\n",
       "      <td>business</td>\n",
       "      <td>worldcom boss  left books alone  former worldc...</td>\n",
       "    </tr>\n",
       "    <tr>\n",
       "      <th>2</th>\n",
       "      <td>sport</td>\n",
       "      <td>tigers wary of farrell  gamble  leicester say ...</td>\n",
       "    </tr>\n",
       "    <tr>\n",
       "      <th>3</th>\n",
       "      <td>sport</td>\n",
       "      <td>yeading face newcastle in fa cup premiership s...</td>\n",
       "    </tr>\n",
       "    <tr>\n",
       "      <th>4</th>\n",
       "      <td>entertainment</td>\n",
       "      <td>ocean s twelve raids box office ocean s twelve...</td>\n",
       "    </tr>\n",
       "  </tbody>\n",
       "</table>\n",
       "</div>"
      ],
      "text/plain": [
       "        category                                               text\n",
       "0           tech  tv future in the hands of viewers with home th...\n",
       "1       business  worldcom boss  left books alone  former worldc...\n",
       "2          sport  tigers wary of farrell  gamble  leicester say ...\n",
       "3          sport  yeading face newcastle in fa cup premiership s...\n",
       "4  entertainment  ocean s twelve raids box office ocean s twelve..."
      ]
     },
     "execution_count": 3,
     "metadata": {},
     "output_type": "execute_result"
    }
   ],
   "source": [
    "np.random.seed(500)\n",
    "file_path=r\"C:\\Uni_doc\\text classification\\Source_text.csv\"\n",
    "Corpus = pd.read_csv(file_path,delimiter=',',encoding='latin-1')\n",
    "Corpus.head()"
   ]
  },
  {
   "cell_type": "code",
   "execution_count": 4,
   "id": "e8226e6c",
   "metadata": {},
   "outputs": [
    {
     "name": "stdout",
     "output_type": "stream",
     "text": [
      "<class 'pandas.core.frame.DataFrame'>\n",
      "RangeIndex: 2225 entries, 0 to 2224\n",
      "Data columns (total 2 columns):\n",
      " #   Column    Non-Null Count  Dtype \n",
      "---  ------    --------------  ----- \n",
      " 0   category  2225 non-null   object\n",
      " 1   text      2225 non-null   object\n",
      "dtypes: object(2)\n",
      "memory usage: 34.9+ KB\n"
     ]
    }
   ],
   "source": [
    "Corpus.info()"
   ]
  },
  {
   "cell_type": "code",
   "execution_count": 5,
   "id": "9f19c71e",
   "metadata": {},
   "outputs": [],
   "source": [
    "#Corpus.SentimentText=Corpus.SentimentText.astype(str)\n",
    "Corpus.category=Corpus.category.astype(str)\n",
    "Corpus.text=Corpus.text.astype(str)"
   ]
  },
  {
   "cell_type": "markdown",
   "id": "3397bc15",
   "metadata": {},
   "source": [
    "sns.countplot(Corpus.category)\n",
    "plt.xlabel('Category')\n",
    "plt.title('CountPlot')"
   ]
  },
  {
   "cell_type": "markdown",
   "id": "9465949d",
   "metadata": {},
   "source": [
    ">>> import nltk\n",
    ">>> nltk.download('punkt')"
   ]
  },
  {
   "cell_type": "markdown",
   "id": "f4417b45",
   "metadata": {},
   "source": [
    "nltk.download()"
   ]
  },
  {
   "cell_type": "code",
   "execution_count": 6,
   "id": "daaa9b50",
   "metadata": {},
   "outputs": [
    {
     "data": {
      "text/html": [
       "<div>\n",
       "<style scoped>\n",
       "    .dataframe tbody tr th:only-of-type {\n",
       "        vertical-align: middle;\n",
       "    }\n",
       "\n",
       "    .dataframe tbody tr th {\n",
       "        vertical-align: top;\n",
       "    }\n",
       "\n",
       "    .dataframe thead th {\n",
       "        text-align: right;\n",
       "    }\n",
       "</style>\n",
       "<table border=\"1\" class=\"dataframe\">\n",
       "  <thead>\n",
       "    <tr style=\"text-align: right;\">\n",
       "      <th></th>\n",
       "      <th>category</th>\n",
       "      <th>text</th>\n",
       "      <th>text_original</th>\n",
       "    </tr>\n",
       "  </thead>\n",
       "  <tbody>\n",
       "    <tr>\n",
       "      <th>0</th>\n",
       "      <td>tech</td>\n",
       "      <td>[tv, future, in, the, hands, of, viewers, with...</td>\n",
       "      <td>0       tv future in the hands of viewers with...</td>\n",
       "    </tr>\n",
       "    <tr>\n",
       "      <th>1</th>\n",
       "      <td>business</td>\n",
       "      <td>[worldcom, boss, left, books, alone, former, w...</td>\n",
       "      <td>0       tv future in the hands of viewers with...</td>\n",
       "    </tr>\n",
       "    <tr>\n",
       "      <th>2</th>\n",
       "      <td>sport</td>\n",
       "      <td>[tigers, wary, of, farrell, gamble, leicester,...</td>\n",
       "      <td>0       tv future in the hands of viewers with...</td>\n",
       "    </tr>\n",
       "    <tr>\n",
       "      <th>3</th>\n",
       "      <td>sport</td>\n",
       "      <td>[yeading, face, newcastle, in, fa, cup, premie...</td>\n",
       "      <td>0       tv future in the hands of viewers with...</td>\n",
       "    </tr>\n",
       "    <tr>\n",
       "      <th>4</th>\n",
       "      <td>entertainment</td>\n",
       "      <td>[ocean, s, twelve, raids, box, office, ocean, ...</td>\n",
       "      <td>0       tv future in the hands of viewers with...</td>\n",
       "    </tr>\n",
       "  </tbody>\n",
       "</table>\n",
       "</div>"
      ],
      "text/plain": [
       "        category                                               text  \\\n",
       "0           tech  [tv, future, in, the, hands, of, viewers, with...   \n",
       "1       business  [worldcom, boss, left, books, alone, former, w...   \n",
       "2          sport  [tigers, wary, of, farrell, gamble, leicester,...   \n",
       "3          sport  [yeading, face, newcastle, in, fa, cup, premie...   \n",
       "4  entertainment  [ocean, s, twelve, raids, box, office, ocean, ...   \n",
       "\n",
       "                                       text_original  \n",
       "0  0       tv future in the hands of viewers with...  \n",
       "1  0       tv future in the hands of viewers with...  \n",
       "2  0       tv future in the hands of viewers with...  \n",
       "3  0       tv future in the hands of viewers with...  \n",
       "4  0       tv future in the hands of viewers with...  "
      ]
     },
     "execution_count": 6,
     "metadata": {},
     "output_type": "execute_result"
    }
   ],
   "source": [
    "# 1. Removing Blank Spaces\n",
    "Corpus['text'].dropna(inplace=True)\n",
    "# 2. Changing all text to lowercase\n",
    "Corpus['text_original'] =str( Corpus['text'])\n",
    "Corpus['text'] = [entry.lower() for entry in Corpus['text']]\n",
    "# 3. Tokenization-In this each entry in the corpus will be broken into set of words\n",
    "Corpus['text']= [word_tokenize(entry) for entry in Corpus['text']]\n",
    "# 4. Remove Stop words, Non-Numeric and perfoming Word Stemming/Lemmenting.\n",
    "# WordNetLemmatizer requires Pos tags to understand if the word is noun \n",
    "# or verb or adjective etc. By default it is set to Noun\n",
    "tag_map = defaultdict(lambda : wn.NOUN)\n",
    "tag_map['J'] = wn.ADJ\n",
    "tag_map['V'] = wn.VERB\n",
    "tag_map['R'] = wn.ADV\n",
    "\n",
    "Corpus.head()"
   ]
  },
  {
   "cell_type": "code",
   "execution_count": 24,
   "id": "0d76c8af",
   "metadata": {},
   "outputs": [
    {
     "data": {
      "text/plain": [
       "'a'"
      ]
     },
     "execution_count": 24,
     "metadata": {},
     "output_type": "execute_result"
    }
   ],
   "source": [
    "tag_map['J']"
   ]
  },
  {
   "cell_type": "code",
   "execution_count": 25,
   "id": "2881a9c8",
   "metadata": {},
   "outputs": [
    {
     "data": {
      "text/plain": [
       "'v'"
      ]
     },
     "execution_count": 25,
     "metadata": {},
     "output_type": "execute_result"
    }
   ],
   "source": [
    "tag_map['V']"
   ]
  },
  {
   "cell_type": "code",
   "execution_count": 26,
   "id": "322e18fb",
   "metadata": {},
   "outputs": [
    {
     "data": {
      "text/plain": [
       "'r'"
      ]
     },
     "execution_count": 26,
     "metadata": {},
     "output_type": "execute_result"
    }
   ],
   "source": [
    "tag_map['R'] "
   ]
  },
  {
   "cell_type": "code",
   "execution_count": 7,
   "id": "00bf43af",
   "metadata": {},
   "outputs": [],
   "source": [
    "for index,entry in enumerate(Corpus['text']):\n",
    "    # Declaring Empty List to store the words that follow the rules for this step\n",
    "    Final_words = []\n",
    "    # Initializing WordNetLemmatizer()\n",
    "    word_Lemmatized = WordNetLemmatizer()\n",
    "    # pos_tag function below will provide the 'tag' i.e if the word is Noun(N) or Verb(V) or something else.\n",
    "    for word, tag in pos_tag(entry):\n",
    "        # Below condition is to check for Stop words and consider only alphabets\n",
    "        if word not in stopwords.words('english') and word.isalpha():\n",
    "            word_Final = word_Lemmatized.lemmatize(word,tag_map[tag[0]])\n",
    "            Final_words.append(word_Final)\n",
    "    # The final processed set of words for each iteration will be stored in 'text_final'\n",
    "    Corpus.loc[index,'text_final'] = str(Final_words)"
   ]
  },
  {
   "cell_type": "code",
   "execution_count": 8,
   "id": "4c8de797",
   "metadata": {},
   "outputs": [],
   "source": [
    "Corpus.drop(['text'], axis=1)\n",
    "output_path = 'preprocessed_data.csv'\n",
    "Corpus.to_csv(output_path, index=False)"
   ]
  },
  {
   "cell_type": "code",
   "execution_count": 9,
   "id": "5b229f3f",
   "metadata": {},
   "outputs": [],
   "source": [
    "Train_X, Test_X, Train_Y, Test_Y = model_selection.train_test_split(Corpus['text_final']\n",
    "                                                                    ,Corpus['category']\n",
    "                                                                    ,test_size=0.3)"
   ]
  },
  {
   "cell_type": "code",
   "execution_count": 10,
   "id": "5e2d9ed4",
   "metadata": {},
   "outputs": [],
   "source": [
    "Encoder = LabelEncoder()\n",
    "Train_Y = Encoder.fit_transform(Train_Y)\n",
    "Test_Y = Encoder.fit_transform(Test_Y)"
   ]
  },
  {
   "cell_type": "code",
   "execution_count": 11,
   "id": "16eba490",
   "metadata": {},
   "outputs": [
    {
     "name": "stdout",
     "output_type": "stream",
     "text": [
      "{'tv': 4649, 'future': 1836, 'hand': 2000, 'viewer': 4789, 'home': 2100, 'theatre': 4485, 'system': 4404, 'plasma': 3319, 'digital': 1239, 'video': 4785, 'recorder': 3628, 'move': 2905, 'living': 2615, 'room': 3829, 'way': 4858, 'people': 3247, 'watch': 4854, 'different': 1235, 'five': 1723, 'year': 4979, 'time': 4524, 'accord': 31, 'expert': 1585, 'panel': 3185, 'gather': 1862, 'annual': 201, 'consumer': 955, 'electronics': 1428, 'show': 4045, 'la': 2491, 'discuss': 1267, 'new': 2990, 'technology': 4442, 'impact': 2186, 'one': 3090, 'favourite': 1654, 'lead': 2531, 'trend': 4607, 'programme': 3474, 'content': 962, 'deliver': 1167, 'via': 4777, 'network': 2985, 'cable': 624, 'satellite': 3894, 'telecom': 4447, 'company': 871, 'broadband': 571, 'service': 3989, 'provider': 3512, 'front': 1813, 'portable': 3364, 'device': 1226, 'ce': 697, 'personal': 3267, 'pvr': 3537, 'box': 532, 'like': 2594, 'tivo': 4530, 'uk': 4663, 'allow': 140, 'record': 3627, 'store': 4268, 'play': 3322, 'pause': 3227, 'forward': 1776, 'wind': 4913, 'want': 4839, 'much': 2920, 'also': 149, 'set': 3991, 'big': 450, 'business': 610, 'japan': 2368, 'slow': 4108, 'take': 4411, 'europe': 1527, 'lack': 2497, 'programming': 3476, 'advert': 78, 'forget': 1763, 'channel': 725, 'schedule': 3915, 'put': 3535, 'together': 4533, 'entertainment': 1487, 'worried': 4952, 'mean': 2765, 'term': 4467, 'advertising': 80, 'revenue': 3764, 'well': 4879, 'brand': 541, 'identity': 2164, 'loyalty': 2650, 'although': 152, 'moment': 2869, 'concern': 905, 'raise': 3575, 'particularly': 3202, 'grow': 1960, 'happen': 2012, 'today': 4532, 'see': 3958, 'nine': 3009, 'month': 2878, 'adam': 54, 'bbc': 397, 'broadcast': 572, 'tell': 4457, 'news': 2993, 'website': 4869, 'issue': 2347, 'lose': 2641, 'yet': 4984, 'commercial': 856, 'broadcaster': 573, 'important': 2193, 'everyone': 1543, 'talk': 4417, 'rather': 3590, 'say': 3904, 'tim': 4523, 'communication': 869, 'firm': 1716, 'reality': 3606, 'connection': 927, 'anybody': 208, 'producer': 3463, 'add': 57, 'challenge': 718, 'hard': 2015, 'promote': 3483, 'choice': 757, 'senior': 3970, 'vice': 4779, 'president': 3422, 'guide': 1972, 'group': 1959, 'find': 1707, 'could': 1013, 'google': 1921, 'book': 510, 'search': 3944, 'engine': 1473, 'instead': 2275, 'help': 2053, 'kind': 2472, 'model': 2863, 'might': 2821, 'work': 4943, 'young': 4987, 'ipod': 2326, 'generation': 1874, 'use': 4737, 'control': 978, 'gadget': 1837, 'suit': 4335, 'recognise': 3622, 'old': 3084, 'comfortable': 849, 'familiar': 1632, 'know': 2484, 'get': 1889, 'perhaps': 3259, 'mr': 2914, 'suggest': 4332, 'end': 1464, 'kid': 2467, 'push': 3534, 'button': 614, 'already': 148, 'everything': 1544, 'possible': 3378, 'available': 330, 'ultimately': 4668, 'market': 2723, 'many': 2709, 'enhance': 1478, 'experience': 1582, 'lcd': 2529, 'crystal': 1060, 'display': 1275, 'launch': 2522, 'capability': 647, 'build': 594, 'external': 1605, 'example': 1553, 'dvd': 1367, 'even': 1533, 'instant': 2274, 'replay': 3708, 'function': 1829, 'hour': 2122, 'microsoft': 2813, 'chief': 750, 'bill': 451, 'gate': 1860, 'announce': 199, 'keynote': 2460, 'speech': 4185, 'partnership': 3205, 'call': 630, 'window': 4914, 'pc': 3232, 'mobile': 2859, 'reflect': 3648, 'increase': 2214, 'free': 1800, 'multimedia': 2921, 'worldcom': 4949, 'bos': 522, 'leave': 2544, 'alone': 145, 'former': 1768, 'bernie': 438, 'ebbers': 1389, 'accuse': 36, 'oversee': 3154, 'fraud': 1797, 'never': 2986, 'make': 2685, 'accounting': 33, 'decision': 1138, 'witness': 4930, 'juror': 2429, 'david': 1114, 'myers': 2940, 'comment': 853, 'question': 3551, 'defence': 1149, 'lawyer': 2527, 'argue': 249, 'responsible': 3742, 'problem': 3456, 'phone': 3287, 'collapse': 833, 'prosecutor': 3500, 'claim': 781, 'loss': 2642, 'hide': 2065, 'protect': 3503, 'share': 4010, 'plead': 3328, 'guilty': 1975, 'assist': 283, 'monday': 2871, 'reid': 3669, 'try': 4633, 'distance': 1279, 'client': 800, 'allegation': 134, 'cross': 1053, 'ask': 276, 'ever': 1537, 'aware': 338, 'reply': 3709, 'entry': 1493, 'press': 3425, 'admit': 68, 'order': 3117, 'false': 1630, 'request': 3720, 'financial': 1704, 'officer': 3075, 'scott': 3929, 'sullivan': 4337, 'paint': 3177, 'later': 2519, 'trial': 4609, 'behind': 415, 'house': 2123, 'card': 657, 'team': 4435, 'meanwhile': 2768, 'look': 2634, 'portray': 3370, 'admission': 67, 'graduate': 1933, 'economist': 1394, 'whatever': 4886, 'ability': 7, 'transform': 4588, 'relative': 3676, 'unknown': 4709, 'giant': 1891, 'investor': 2319, 'late': 2518, 'mount': 2900, 'however': 2130, 'competition': 878, 'boom': 512, 'finally': 1702, 'shareholder': 4011, 'worker': 4944, 'job': 2383, 'expect': 1576, 'last': 2517, 'two': 4654, 'face': 1613, 'substantial': 4318, 'jail': 2358, 'sentence': 3975, 'firmly': 1717, 'declare': 1140, 'tiger': 4519, 'farrell': 1645, 'gamble': 1842, 'leicester': 2558, 'rush': 3859, 'bid': 447, 'andy': 182, 'great': 1944, 'britain': 567, 'rugby': 3848, 'league': 2536, 'captain': 653, 'decide': 1136, 'switch': 4399, 'code': 825, 'else': 1436, 'involve': 2322, 'process': 3459, 'still': 4262, 'away': 340, 'go': 1911, 'next': 2997, 'stage': 4228, 'boss': 523, 'john': 2388, 'radio': 3569, 'lot': 2643, 'least': 2543, 'medical': 2772, 'situation': 4086, 'persistent': 3265, 'knee': 2480, 'operation': 3103, 'week': 4872, 'ago': 104, 'another': 203, 'three': 4504, 'saracen': 3892, 'believe': 422, 'head': 2031, 'list': 2607, 'union': 4699, 'club': 817, 'interested': 2300, 'sign': 4059, 'game': 1844, 'across': 43, 'would': 4959, 'back': 348, 'initially': 2254, 'sure': 4359, 'step': 4252, 'centre': 710, 'think': 4493, 'england': 1476, 'prefer': 3403, 'progress': 3477, 'position': 3374, 'row': 3840, 'skill': 4090, 'within': 4928, 'jury': 2430, 'whether': 4889, 'divide': 1288, 'balance': 363, 'strike': 4288, 'cost': 1010, 'option': 3114, 'bring': 564, 'replacement': 3707, 'newcastle': 2991, 'fa': 1612, 'cup': 1072, 'premiership': 3409, 'side': 4053, 'united': 4704, 'trip': 4619, 'premier': 3407, 'leader': 2532, 'third': 4495, 'round': 3835, 'highlight': 2069, 'draw': 1334, 'potential': 3384, 'beat': 400, 'second': 3949, 'conference': 914, 'exeter': 1569, 'city': 778, 'knock': 2483, 'saturday': 3897, 'travel': 4597, 'trafford': 4581, 'meet': 2775, 'holder': 2091, 'manchester': 2697, 'unite': 4703, 'january': 2367, 'arsenal': 263, 'chelsea': 744, 'host': 2118, 'hold': 2090, 'brentford': 552, 'sunday': 4344, 'win': 4912, 'martin': 2731, 'allen': 138, 'griffin': 1955, 'park': 3191, 'number': 3047, 'difficult': 1236, 'championship': 721, 'weekend': 4873, 'everton': 1539, 'visit': 4807, 'liverpool': 2614, 'burnley': 605, 'palace': 3182, 'sunderland': 4345, 'fulham': 1824, 'carling': 666, 'bolton': 502, 'aston': 293, 'villa': 4791, 'sheffield': 4022, 'norwich': 3034, 'blackburn': 469, 'west': 4883, 'ham': 1996, 'cardiff': 658, 'north': 3030, 'respectively': 3737, 'southampton': 4159, 'northampton': 3031, 'earlier': 1372, 'season': 3945, 'middlesbrough': 2815, 'either': 1418, 'county': 1022, 'spur': 4212, 'entertain': 1486, 'brighton': 562, 'white': 4893, 'hart': 2026, 'lane': 2507, 'man': 2693, 'utd': 4745, 'blackpool': 470, 'derby': 1198, 'wolf': 4932, 'millwall': 2836, 'tottenham': 4553, 'reading': 3601, 'birmingham': 460, 'leeds': 2547, 'boston': 524, 'charlton': 733, 'bournemouth': 529, 'portsmouth': 3372, 'forest': 1761, 'match': 2741, 'ocean': 3063, 'twelve': 4650, 'raid': 3572, 'office': 3074, 'crime': 1043, 'sequel': 3980, 'star': 4237, 'george': 1882, 'brad': 538, 'julia': 2416, 'robert': 3803, 'straight': 4271, 'chart': 734, 'ticket': 4516, 'sale': 3881, 'studio': 4300, 'estimate': 1517, 'follow': 1748, 'master': 2740, 'criminal': 1044, 'pull': 3525, 'major': 2683, 'national': 2955, 'place': 3311, 'top': 4546, 'express': 1599, 'tom': 4538, 'hank': 2008, 'festive': 1678, 'comedy': 848, 'christmas': 762, 'triumph': 4621, 'mark': 2722, 'opening': 3099, 'december': 1133, 'release': 3679, 'film': 1697, 'lord': 2639, 'ring': 3788, 'trilogy': 4616, 'narrowly': 2950, 'predecessor': 3400, 'open': 3097, 'total': 4551, 'remake': 3690, 'frank': 1793, 'rat': 3588, 'pack': 3169, 'direct': 1243, 'director': 1247, 'steven': 4257, 'return': 3759, 'hit': 2081, 'reunite': 3760, 'matt': 2745, 'garcia': 1853, 'catherine': 689, 'join': 2391, 'cast': 682, 'fun': 1828, 'good': 1920, 'holiday': 2094, 'movie': 2907, 'dan': 1098, 'distribution': 1282, 'warner': 4845, 'critic': 1048, 'less': 2569, 'project': 3478, 'los': 2640, 'angeles': 186, 'label': 2493, 'review': 3766, 'york': 4985, 'dub': 1352, 'howard': 2129, 'michael': 2809, 'peter': 3274, 'tory': 4549, 'act': 44, 'attack': 303, 'labour': 2496, 'opposition': 3110, 'upbeat': 4720, 'party': 3206, 'spring': 4208, 'campaign': 636, 'tactic': 4408, 'prove': 3510, 'debate': 1127, 'something': 4140, 'someone': 4139, 'somewhere': 4143, 'little': 2612, 'bit': 463, 'common': 865, 'four': 1782, 'stance': 4233, 'government': 1926, 'legislation': 2555, 'country': 1020, 'risk': 3795, 'behave': 413, 'playing': 3325, 'sake': 3879, 'anything': 211, 'far': 1640, 'compare': 872, 'fagin': 1619, 'fly': 1741, 'pig': 3298, 'morning': 2886, 'environment': 1494, 'secretary': 3952, 'margaret': 2715, 'reject': 3672, 'pm': 3337, 'real': 3603, 'duty': 1366, 'focus': 1744, 'proposal': 3495, 'really': 3607, 'poor': 3356, 'judgement': 2414, 'behalf': 412, 'policy': 3347, 'school': 3918, 'tax': 4427, 'immigration': 2185, 'voter': 4822, 'since': 4075, 'beginning': 411, 'election': 1422, 'political': 3349, 'weather': 4866, 'deny': 1188, 'politics': 3352, 'case': 679, 'whose': 4897, 'cancel': 642, 'seven': 3996, 'grab': 1929, 'headline': 2033, 'mrs': 2915, 'human': 2138, 'blair': 471, 'plan': 3313, 'quota': 3560, 'medium': 2774, 'coverage': 1027, 'racist': 3565, 'sense': 3971, 'pledge': 3331, 'hospital': 2117, 'discipline': 1259, 'promise': 3481, 'rid': 3780, 'give': 1899, 'chance': 722, 'decent': 1134, 'state': 4239, 'education': 1405, 'come': 845, 'ordinary': 3118, 'family': 1633, 'teenage': 4443, 'apply': 226, 'cambridge': 633, 'gordon': 1922, 'brown': 580, 'love': 2645, 'stress': 4284, 'commitment': 861, 'cut': 1083, 'red': 3634, 'tape': 4420, 'basic': 388, 'pension': 3244, 'line': 2600, 'earnings': 1376, 'finish': 1711, 'appeal': 220, 'activist': 47, 'day': 1119, 'able': 8, 'child': 751, 'mine': 2838, 'part': 3197, 'famous': 1634, 'alan': 120, 'milburn': 2827, 'confirm': 919, 'always': 154, 'strategy': 4277, 'vision': 4806, 'reference': 3645, 'appearance': 222, 'perfectly': 3255, 'entitle': 1491, 'pose': 3373, 'working': 4946, 'damage': 1094, 'public': 3519, 'spending': 4189, 'prepare': 3413, 'name': 2946, 'poll': 3353, 'date': 1110, 'tony': 4544, 'likely': 2595, 'may': 2753, 'parliament': 3193, 'break': 548, 'editor': 1402, 'learn': 2540, 'andrew': 181, 'marr': 2726, 'queen': 3548, 'april': 234, 'recently': 3618, 'down': 1319, 'street': 4281, 'timing': 4525, 'matter': 2746, 'prime': 3437, 'minister': 2842, 'spokeswoman': 4199, 'signal': 4060, 'westminster': 4885, 'key': 2458, 'need': 2969, 'finance': 1703, 'cover': 1026, 'budget': 591, 'pass': 3208, 'close': 810, 'session': 3990, 'seek': 3960, 'serious': 3984, 'organise': 3120, 'id': 2159, 'wednesday': 4871, 'almost': 143, 'nobody': 3016, 'level': 2574, 'inside': 2265, 'soon': 4147, 'short': 4037, 'whip': 4891, 'officially': 3077, 'june': 2421, 'general': 1871, 'recent': 3617, 'favour': 1653, 'henman': 2056, 'hop': 2109, 'dubai': 1353, 'seed': 3959, 'slump': 4113, 'defeat': 1148, 'ivan': 2353, 'ljubicic': 2617, 'eighth': 1417, 'victory': 4784, 'british': 568, 'course': 1024, 'halt': 1994, 'rain': 3574, 'intervene': 2309, 'seal': 3942, 'fourth': 1783, 'spanish': 4169, 'fifth': 1688, 'tommy': 4540, 'secure': 3956, 'nicolas': 3004, 'germany': 1886, 'afterwards': 97, 'incredibly': 2219, 'keep': 2445, 'till': 4522, 'score': 3925, 'happy': 2013, 'form': 1764, 'wilkinson': 4905, 'fit': 1721, 'edinburgh': 1399, 'jonny': 2399, 'injury': 2259, 'injure': 2257, 'october': 3064, 'training': 4585, 'start': 4238, 'heineken': 2050, 'murrayfield': 2930, 'bench': 428, 'rob': 3800, 'fine': 1709, 'hope': 2110, 'autumn': 329, 'international': 2304, 'upper': 4727, 'right': 3786, 'arm': 252, 'subsequently': 4314, 'replace': 3706, 'jason': 2370, 'robinson': 3806, 'charlie': 732, 'hodgson': 2087, 'canada': 640, 'south': 4158, 'africa': 94, 'australia': 320, 'disrupt': 1277, 'muscle': 2931, 'eight': 1416, 'sideline': 4054, 'shoulder': 4043, 'sustain': 4381, 'world': 4948, 'final': 1700, 'war': 4840, 'sixth': 4088, 'suitable': 4336, 'lucas': 2653, 'minute': 2847, 'revenge': 3763, 'dark': 1106, 'violent': 4797, 'series': 3983, 'cbs': 695, 'air': 114, 'predict': 3401, 'rating': 3592, 'advise': 82, 'parent': 3189, 'scene': 3913, 'roughly': 3834, 'equivalent': 1504, 'previous': 3432, 'carry': 675, 'guidance': 1971, 'original': 3123, 'chronicle': 764, 'evil': 1547, 'planet': 3315, 'pact': 3172, 'emotional': 1452, 'tragedy': 4582, 'berlin': 435, 'cheer': 742, 'german': 1885, 'festival': 1677, 'member': 2782, 'rise': 3794, 'movement': 2906, 'arrest': 260, 'brother': 579, 'distribute': 1281, 'leaflet': 2535, 'condemn': 911, 'tyranny': 4659, 'hitler': 2083, 'marc': 2713, 'feeling': 1667, 'responsibility': 3741, 'legacy': 2550, 'must': 2937, 'somehow': 4138, 'idea': 2160, 'alive': 133, 'preserve': 3420, 'archive': 242, 'east': 1381, 'secret': 3951, 'police': 3345, 'discovery': 1264, 'closely': 811, 'survive': 4374, 'include': 2209, 'sister': 4082, 'ensure': 1483, 'historical': 2079, 'first': 1718, 'summer': 4340, 'drop': 1345, 'munich': 2924, 'university': 4708, 'regime': 3656, 'six': 4087, 'intense': 2292, 'saw': 3903, 'charge': 729, 'vie': 4786, 'prize': 3452, 'african': 95, 'version': 4774, 'opera': 3100, 'shoot': 4031, 'town': 4567, 'language': 2508, 'story': 4270, 'perform': 3256, 'music': 2933, 'debut': 1129, 'performance': 3257, 'feature': 1658, 'nominate': 3020, 'golden': 1918, 'bear': 399, 'award': 337, 'virgin': 4799, 'blue': 487, 'australian': 321, 'airline': 117, 'plunge': 3335, 'warn': 4844, 'fall': 1629, 'full': 1825, 'profit': 3470, 'march': 2714, 'low': 2647, 'sluggish': 4112, 'demand': 1172, 'report': 3710, 'previously': 3433, 'november': 3043, 'continue': 969, 'executive': 1566, 'own': 3162, 'richard': 3777, 'struggle': 4297, 'pressure': 3426, 'rival': 3796, 'passenger': 3210, 'forecast': 1758, 'quarter': 3546, 'august': 319, 'due': 1356, 'tough': 4556, 'half': 1989, 'fuel': 1822, 'domestic': 1300, 'carrier': 673, 'qantas': 3538, 'fight': 1689, 'sky': 4093, 'recover': 3630, 'slightly': 4101, 'patrick': 3222, 'corporation': 1005, 'crude': 1057, 'oil': 3083, 'price': 3434, 'cold': 829, 'barrel': 384, 'freeze': 1805, 'temperature': 4458, 'heavy': 2047, 'heat': 2044, 'stock': 4264, 'fresh': 1809, 'value': 4751, 'dollar': 1298, 'tuesday': 4636, 'opec': 3096, 'reason': 3609, 'output': 3141, 'peak': 3235, 'reach': 3596, 'average': 331, 'brent': 551, 'london': 2631, 'trading': 4576, 'western': 4884, 'america': 162, 'decline': 1141, 'euro': 1525, 'serve': 3987, 'sharply': 4015, 'chris': 759, 'strategist': 4276, 'weaken': 4861, 'obviously': 3059, 'high': 2066, 'several': 3998, 'production': 3465, 'unlikely': 4712, 'cite': 774, 'strong': 4294, 'asia': 272, 'agree': 105, 'supply': 4353, 'reuters': 3761, 'unless': 4710, 'global': 1904, 'excessive': 1559, 'arrival': 261, 'northern': 3032, 'hemisphere': 2054, 'attention': 307, 'force': 1755, 'ease': 1379, 'hague': 1985, 'ambition': 159, 'conservative': 934, 'william': 4906, 'stand': 4234, 'leadership': 2533, 'daily': 1090, 'telegraph': 4450, 'life': 2589, 'dominate': 1303, 'rule': 3849, 'paper': 3187, 'remain': 3689, 'mp': 2910, 'wife': 4903, 'publish': 3523, 'biography': 458, 'write': 4964, 'newspaper': 2995, 'definitely': 1156, 'determination': 1218, 'stay': 4245, 'central': 709, 'role': 3817, 'disappoint': 1252, 'collins': 838, 'shadow': 4003, 'huge': 2134, 'boost': 513, 'become': 406, 'feel': 1666, 'fortunate': 1773, 'age': 99, 'entire': 1489, 'career': 661, 'cabinet': 622, 'branch': 540, 'thing': 4492, 'maybe': 2754, 'drive': 1340, 'moya': 2908, 'davis': 1115, 'carlos': 667, 'describe': 1200, 'spain': 4165, 'roddick': 3813, 'usa': 4734, 'seville': 4000, 'miss': 2851, 'wake': 4829, 'night': 3007, 'dream': 1335, 'energy': 1468, 'live': 2613, 'title': 4529, 'nickname': 3003, 'nervous': 2980, 'obsess': 3056, 'goal': 1912, 'incredible': 2217, 'winning': 4920, 'point': 3341, 'opportunity': 3107, 'let': 2571, 'wait': 4828, 'remarkable': 3692, 'rafael': 3571, 'nadal': 2943, 'single': 4079, 'player': 3324, 'coach': 821, 'rest': 3743, 'tennis': 4464, 'clay': 792, 'surface': 4361, 'guy': 1980, 'court': 1025, 'mix': 2856, 'constantly': 945, 'certainly': 714, 'appropriate': 231, 'couple': 1023, 'event': 1535, 'best': 439, 'stuff': 4302, 'olympic': 3088, 'stadium': 4225, 'felt': 1670, 'whole': 4895, 'american': 163, 'convert': 988, 'bottom': 526, 'care': 660, 'simple': 4070, 'korean': 2488, 'credit': 1040, 'rescue': 3723, 'korea': 2487, 'large': 2514, 'trillion': 4615, 'lg': 2578, 'threaten': 4503, 'debt': 1128, 'creditor': 1041, 'consortium': 941, 'million': 2835, 'customer': 1082, 'send': 3969, 'economy': 1395, 'deal': 1124, 'avoid': 335, 'bankruptcy': 375, 'trigger': 4614, 'massive': 2739, 'agreement': 106, 'funding': 1832, 'aid': 111, 'development': 1225, 'bank': 371, 'equity': 1503, 'purpose': 3532, 'capital': 650, 'kim': 2471, 'analyst': 175, 'security': 3957, 'slowly': 4110, 'crisis': 1046, 'bubble': 589, 'burst': 606, 'fell': 1668, 'repayment': 3703, 'september': 3979, 'throw': 4510, 'exchange': 1560, 'exceed': 1554, 'asset': 282, 'run': 3852, 'stem': 4251, 'cell': 704, 'research': 3724, 'controversial': 980, 'presidential': 3423, 'bush': 609, 'oppose': 3108, 'extend': 1601, 'moral': 2883, 'embrace': 1445, 'science': 3920, 'victim': 4781, 'motor': 2897, 'disease': 1269, 'offer': 3072, 'suffer': 4330, 'devastate': 1221, 'illness': 2174, 'develop': 1222, 'body': 497, 'type': 4656, 'scientist': 3921, 'laboratory': 2495, 'specific': 4178, 'heart': 2043, 'brain': 539, 'acknowledge': 40, 'genuine': 1879, 'change': 724, 'past': 3214, 'optimistic': 3113, 'politician': 3351, 'create': 1033, 'framework': 1789, 'benefit': 430, 'briton': 569, 'around': 256, 'society': 4127, 'quality': 3544, 'soul': 4154, 'respect': 3736, 'multiple': 2922, 'possibly': 3379, 'easy': 1386, 'answer': 204, 'necessary': 2967, 'do': 1292, 'achieve': 38, 'actor': 49, 'christopher': 763, 'advocate': 86, 'horse': 2116, 'accident': 27, 'remark': 3691, 'woman': 4933, 'committee': 862, 'connors': 930, 'jimmy': 2382, 'relationship': 3675, 'association': 288, 'spent': 4190, 'lta': 2652, 'elite': 1434, 'winter': 4922, 'camp': 635, 'attitude': 308, 'arrangement': 258, 'confuse': 922, 'leading': 2534, 'junior': 2424, 'greg': 1951, 'rusedski': 3858, 'anne': 197, 'amazing': 156, 'site': 4085, 'speak': 4172, 'impress': 2196, 'every': 1540, 'practice': 3396, 'interest': 2299, 'desire': 1204, 'passion': 3211, 'surround': 4370, 'importance': 2192, 'buy': 615, 'effort': 1414, 'speaking': 4174, 'sport': 4202, 'fantastic': 1638, 'consider': 935, 'hopefully': 2112, 'individual': 2232, 'clear': 794, 'word': 4942, 'stake': 4229, 'reputation': 3719, 'successful': 4323, 'wimbledon': 4911, 'tournament': 4563, 'japanese': 2369, 'banking': 373, 'battle': 395, 'withdraw': 4926, 'takeover': 4412, 'ufj': 4662, 'holding': 2092, 'enable': 1460, 'latter': 2521, 'merge': 2796, 'mitsubishi': 2855, 'tokyo': 4534, 'counterpart': 1019, 'friday': 1810, 'conclude': 909, 'yen': 4981, 'exit': 1573, 'profile': 3469, 'history': 2080, 'fierce': 1686, 'table': 4405, 'management': 2695, 'absorb': 16, 'accept': 22, 'merger': 2797, 'statement': 4240, 'ongoing': 3092, 'integration': 2285, 'approve': 233, 'turn': 4644, 'tie': 4517, 'venture': 4766, 'speculation': 4184, 'increasingly': 2216, 'alliance': 139, 'maker': 2686, 'survival': 4373, 'independent': 2224, 'argonaut': 248, 'harry': 2024, 'potter': 3386, 'sack': 3869, 'employee': 1456, 'severe': 3999, 'cash': 680, 'administrator': 66, 'online': 3093, 'sell': 3966, 'save': 3901, 'suspend': 4378, 'developer': 1224, 'along': 146, 'headquarters': 2034, 'operate': 3101, 'provide': 3511, 'healthy': 2038, 'flow': 1740, 'software': 4129, 'constant': 944, 'publisher': 3524, 'trouble': 4626, 'emerge': 1446, 'delay': 1162, 'contract': 971, 'measure': 2769, 'fire': 1713, 'redundancy': 3641, 'suspect': 4377, 'staff': 4226, 'employ': 1455, 'monster': 2877, 'base': 387, 'partner': 3204, 'spend': 4188, 'partly': 3203, 'premise': 3410, 'hopeful': 2111, 'expression': 1600, 'quick': 3553, 'receive': 3616, 'wage': 4827, 'pay': 3229, 'warning': 4846, 'fbi': 1655, 'virus': 4803, 'federal': 1661, 'investigation': 2317, 'computer': 899, 'spread': 4206, 'address': 62, 'recipient': 3621, 'access': 25, 'illegal': 2172, 'message': 2801, 'internet': 2306, 'monitor': 2874, 'complaint': 884, 'center': 708, 'attachment': 302, 'contain': 958, 'click': 799, 'infect': 2241, 'agency': 100, 'user': 4741, 'unsolicited': 4716, 'similar': 4066, 'engage': 1471, 'manner': 2703, 'investigate': 2316, 'shut': 4051, 'account': 32, 'communicate': 868, 'breach': 547, 'incident': 2208, 'appear': 221, 'halo': 1993, 'herald': 2059, 'traffic': 4580, 'explosion': 1594, 'popularity': 3361, 'gaming': 1849, 'spell': 4187, 'net': 2982, 'monitoring': 2875, 'analysis': 174, 'xbox': 4971, 'cope': 996, 'bandwidth': 370, 'popular': 3360, 'connect': 926, 'gamers': 1848, 'others': 3130, 'surge': 4363, 'industry': 2239, 'intelligent': 2290, 'amount': 169, 'attribute': 313, 'reserve': 3727, 'main': 2679, 'factor': 1616, 'lag': 2501, 'gamer': 1847, 'mouse': 2903, 'keyboard': 2459, 'tend': 4462, 'lindsay': 2599, 'competitive': 879, 'operator': 3104, 'fast': 1647, 'hugely': 2135, 'bates': 392, 'ken': 2449, 'complete': 885, 'chairman': 717, 'gmt': 1910, 'delight': 1166, 'ahead': 109, 'belong': 426, 'fan': 1635, 'bat': 391, 'fund': 1830, 'reveal': 3762, 'road': 3799, 'ground': 1958, 'jon': 2396, 'task': 4423, 'sort': 4152, 'added': 58, 'light': 2593, 'long': 2632, 'tunnel': 4640, 'totally': 4552, 'board': 493, 'succeed': 4321, 'reduce': 3638, 'solve': 4136, 'percent': 3251, 'overcome': 3150, 'success': 4322, 'background': 351, 'period': 3260, 'unpaid': 4715, 'capacity': 649, 'contact': 957, 'consultant': 952, 'loan': 2623, 'understood': 4689, 'taylor': 4430, 'refuse': 3652, 'detail': 1212, 'figure': 1692, 'money': 2873, 'current': 1076, 'person': 3266, 'stretch': 4285, 'internal': 2303, 'roman': 3820, 'stamford': 4230, 'bridge': 556, 'invest': 2315, 'sebastien': 3947, 'fail': 1621, 'administration': 65, 'football': 1754, 'investment': 2318, 'prospect': 3501, 'cole': 830, 'lengthy': 2564, 'striker': 4289, 'pick': 3295, 'holland': 2095, 'action': 45, 'bad': 354, 'leary': 2542, 'ankle': 196, 'unable': 4672, 'shortage': 4038, 'fitness': 1722, 'broken': 576, 'emergence': 1447, 'moore': 2882, 'manager': 2696, 'department': 1189, 'audio': 316, 'dimension': 1240, 'closer': 812, 'sound': 4155, 'small': 4115, 'jump': 2420, 'disappear': 1251, 'heard': 2041, 'cinema': 768, 'speaker': 4173, 'manage': 2694, 'quite': 3559, 'seem': 3962, 'nice': 2999, 'proper': 3491, 'standard': 4235, 'handset': 2006, 'chip': 755, 'produce': 3462, 'console': 939, 'efficient': 1413, 'dr': 1326, 'alastair': 122, 'basically': 389, 'fool': 1751, 'ear': 1371, 'area': 244, 'actually': 52, 'certain': 713, 'information': 2248, 'effectively': 1411, 'structure': 4296, 'understand': 4687, 'processing': 3460, 'impression': 2198, 'left': 2548, 'listener': 2609, 'fact': 1615, 'source': 4157, 'shape': 4009, 'cause': 691, 'difference': 1234, 'downloading': 1322, 'handhelds': 2003, 'often': 3082, 'screen': 3932, 'definition': 1157, 'immersive': 2183, 'field': 1685, 'song': 4145, 'significantly': 4062, 'improve': 2200, 'efficiency': 1412, 'processor': 3461, 'otherwise': 3131, 'explain': 1587, 'european': 1528, 'vodafone': 4814, 'advanced': 75, 'indian': 2227, 'successfully': 4324, 'defend': 1150, 'finalist': 1701, 'spaniard': 4168, 'donate': 1305, 'relief': 3682, 'asian': 273, 'tsunami': 4634, 'throughout': 4509, 'thai': 4479, 'winner': 4919, 'closing': 813, 'bounce': 527, 'decider': 1137, 'contribution': 976, 'disaster': 1256, 'thailand': 4480, 'kill': 2468, 'atp': 300, 'contribute': 975, 'fee': 1664, 'emergency': 1448, 'tour': 4559, 'sponsor': 4200, 'mercedes': 2794, 'donation': 1306, 'honour': 2106, 'dicaprio': 1231, 'leonardo': 2567, 'exceptional': 1557, 'santa': 3890, 'barbara': 377, 'present': 3417, 'scorsese': 3926, 'aviator': 333, 'lifetime': 2591, 'achievement': 39, 'completely': 886, 'excite': 1561, 'begin': 410, 'horror': 2115, 'onto': 3095, 'romeo': 3824, 'gang': 1850, 'california': 629, 'anniversary': 198, 'coincide': 828, 'portrayal': 3371, 'hughes': 2137, 'veteran': 4775, 'actress': 50, 'jane': 2365, 'russell': 3860, 'quest': 3550, 'pole': 3344, 'oscar': 3127, 'race': 3563, 'nomination': 3021, 'gig': 1894, 'aim': 113, 'rock': 3811, 'crowd': 1054, 'bar': 376, 'enjoy': 1479, 'outfit': 3136, 'concert': 907, 'venue': 4767, 'clip': 807, 'swap': 4388, 'data': 1108, 'faster': 1648, 'download': 1320, 'band': 369, 'pound': 3387, 'spokesperson': 4198, 'hall': 1992, 'except': 1556, 'virtually': 4802, 'stream': 4280, 'dip': 1242, 'ms': 2916, 'persuade': 3271, 'regular': 3663, 'terror': 4471, 'citizen': 776, 'involvement': 2323, 'terrorism': 4472, 'outline': 3139, 'law': 2524, 'detention': 1217, 'foreign': 1759, 'without': 4929, 'charles': 731, 'clarke': 784, 'anyone': 210, 'subject': 4308, 'curfew': 1074, 'abuse': 17, 'power': 3390, 'deport': 1192, 'detainee': 1215, 'mainly': 2680, 'belmarsh': 425, 'prison': 3445, 'introduce': 2312, 'origin': 3122, 'egypt': 1415, 'torture': 4548, 'death': 1126, 'propose': 3496, 'prompt': 3487, 'restriction': 3748, 'limit': 2597, 'telephone': 4452, 'intelligence': 2289, 'significant': 4061, 'threat': 4502, 'clive': 808, 'prosecution': 3499, 'preference': 3404, 'scrutiny': 3938, 'judge': 2413, 'nation': 2954, 'prevent': 3430, 'terrorist': 4473, 'intercept': 2298, 'evidence': 1546, 'men': 2785, 'indefinitely': 2222, 'worry': 4953, 'special': 4176, 'generally': 1872, 'clearly': 797, 'recruit': 3632, 'view': 4788, 'liberal': 2581, 'democrat': 1175, 'spokesman': 4197, 'oaten': 3049, 'proof': 3489, 'indeed': 2221, 'liberty': 2583, 'opt': 3111, 'writer': 4965, 'hill': 2074, 'die': 1233, 'classic': 788, 'cancer': 643, 'jamie': 2363, 'lee': 2546, 'curtis': 1079, 'carpenter': 671, 'worldwide': 4950, 'escape': 1510, 'assistant': 285, 'rank': 3580, 'regard': 3654, 'pioneer': 3302, 'commonly': 866, 'assume': 289, 'script': 3936, 'realise': 3604, 'niche': 3000, 'capable': 648, 'talented': 4416, 'ii': 2170, 'friend': 1811, 'string': 4290, 'nominee': 3022, 'king': 2473, 'adventure': 77, 'stephen': 4253, 'adaptation': 56, 'dead': 1121, 'zone': 4998, 'clue': 818, 'pursue': 3533, 'twin': 4653, 'tower': 4566, 'early': 1373, 'royal': 3843, 'mood': 2880, 'prince': 3438, 'parker': 3192, 'await': 336, 'reaction': 3598, 'marry': 2728, 'civil': 779, 'ceremony': 712, 'castle': 683, 'support': 4354, 'majority': 2684, 'thursday': 4513, 'dinner': 1241, 'engagement': 1472, 'earth': 1377, 'reporter': 3712, 'absolutely': 15, 'marriage': 2727, 'wish': 4925, 'luck': 2654, 'wedding': 4870, 'st': 4221, 'archbishop': 239, 'williams': 4907, 'sensitive': 3973, 'husband': 2148, 'supreme': 4358, 'governor': 1927, 'church': 766, 'diana': 1228, 'disappointment': 1255, 'treat': 4600, 'wale': 4830, 'please': 3329, 'kennedy': 2450, 'sensible': 3972, 'bowl': 531, 'numerous': 3048, 'mostly': 2892, 'trust': 4630, 'pain': 3174, 'attend': 305, 'private': 3448, 'firefox': 1714, 'browser': 582, 'explorer': 1593, 'web': 4867, 'especially': 1511, 'program': 3473, 'mozilla': 2909, 'foundation': 1780, 'february': 1659, 'core': 1001, 'phoenix': 3286, 'gain': 1838, 'praise': 3398, 'ie': 2168, 'organisation': 3119, 'vulnerability': 4825, 'population': 3362, 'july': 2419, 'surfer': 4362, 'publicly': 3522, 'few': 1681, 'hole': 2093, 'innovation': 2262, 'instance': 2273, 'page': 3173, 'arrange': 257, 'easily': 1380, 'block': 479, 'text': 4477, 'browse': 581, 'powerful': 3391, 'hundred': 2141, 'extra': 1606, 'extension': 1602, 'creator': 1037, 'result': 3751, 'homeland': 2101, 'vocal': 4813, 'attempt': 304, 'target': 4421, 'ten': 4461, 'ad': 53, 'surplus': 4366, 'alternative': 151, 'celebrity': 703, 'paul': 3225, 'eastenders': 1382, 'johnson': 2390, 'strictly': 4287, 'ice': 2156, 'dancing': 1101, 'television': 4455, 'presenter': 3419, 'pair': 3179, 'professional': 3467, 'audience': 315, 'vote': 4821, 'bruce': 583, 'forsyth': 1770, 'hot': 2119, 'heel': 2048, 'practise': 3397, 'dance': 1099, 'contest': 963, 'duo': 1362, 'dean': 1125, 'itv': 2352, 'thin': 4491, 'contestant': 964, 'routine': 3838, 'crown': 1055, 'mtv': 2918, 'ozzy': 3166, 'osbourne': 3126, 'episode': 1497, 'camera': 634, 'black': 468, 'singer': 4078, 'rome': 3823, 'sharon': 4013, 'everybody': 1541, 'enough': 1481, 'currently': 1077, 'talent': 4415, 'alongside': 147, 'simon': 4068, 'cowell': 1028, 'walsh': 4837, 'driving': 1342, 'earn': 1375, 'renew': 3699, 'metal': 2803, 'artist': 269, 'magazine': 2674, 'simpson': 4072, 'tap': 4419, 'suppose': 4357, 'kick': 2464, 'brit': 566, 'insurance': 2281, 'marsh': 2729, 'attorney': 309, 'spitzer': 4195, 'obtain': 3057, 'plea': 3327, 'ranking': 3581, 'joshua': 2403, 'count': 1016, 'scheme': 3916, 'longer': 2633, 'rig': 3785, 'fixed': 1725, 'settle': 3994, 'lawsuit': 2526, 'file': 1694, 'settlement': 3995, 'neither': 2977, 'jonathan': 2397, 'ill': 2171, 'health': 2036, 'visitor': 4808, 'resignation': 3730, 'privilege': 3450, 'conduct': 913, 'constituency': 946, 'intend': 2291, 'sir': 4081, 'stanley': 4236, 'resign': 3729, 'protest': 3505, 'inquiry': 2264, 'allege': 135, 'english': 1477, 'suspension': 4379, 'wrong': 4967, 'apology': 217, 'mps': 2913, 'chamber': 719, 'insist': 2268, 'error': 1509, 'represent': 3714, 'bristol': 565, 'snap': 4122, 'sony': 4146, 'psp': 3516, 'playstation': 3326, 'thousand': 4501, 'queue': 3552, 'ship': 4028, 'retailer': 3754, 'handheld': 2002, 'despite': 1208, 'dominance': 1301, 'nintendo': 3010, 'hendrix': 2055, 'museum': 2932, 'dedicate': 1142, 'father': 1651, 'wholesale': 4896, 'local': 2625, 'authority': 325, 'supporter': 4355, 'guitarist': 1977, 'mayor': 2755, 'destroy': 1210, 'ray': 3594, 'marshall': 2730, 'james': 2362, 'building': 595, 'land': 2503, 'housing': 2127, 'plot': 3333, 'deadline': 1122, 'community': 870, 'official': 3076, 'property': 3493, 'perspective': 3270, 'temporary': 4459, 'simply': 4071, 'district': 1284, 'widely': 4899, 'drug': 1346, 'cap': 646, 'watchdog': 4855, 'fear': 1657, 'donor': 1308, 'spark': 4171, 'electoral': 1423, 'commission': 858, 'worth': 4957, 'candidate': 644, 'campaigning': 638, 'nearly': 2965, 'gift': 1893, 'suspicion': 4380, 'taxpayer': 4429, 'acceptable': 23, 'principle': 3440, 'introduction': 2313, 'departure': 1190, 'exist': 1571, 'ban': 368, 'urge': 4731, 'income': 2211, 'scottish': 3930, 'welsh': 4880, 'assembly': 279, 'ireland': 2334, 'turnout': 4647, 'shift': 4026, 'double': 1315, 'sam': 3882, 'doubt': 1316, 'vital': 4810, 'maintain': 2682, 'democracy': 1174, 'adequately': 63, 'visible': 4805, 'accessible': 26, 'reluctant': 3686, 'unhappy': 4695, 'wide': 4898, 'consensus': 932, 'radical': 3568, 'growth': 1961, 'reverse': 3765, 'shrink': 4050, 'upset': 4728, 'sustained': 4383, 'recovery': 3631, 'expansion': 1575, 'statistic': 4242, 'zero': 4996, 'export': 1595, 'track': 4572, 'unemployment': 4690, 'welfare': 4878, 'daimlerchrysler': 1091, 'siemens': 4057, 'trim': 4617, 'outweigh': 3148, 'weakness': 4862, 'competitiveness': 880, 'product': 3464, 'overseas': 3153, 'effect': 1409, 'eurozone': 1529, 'rate': 3589, 'inflation': 2244, 'crackdown': 1030, 'ruth': 3863, 'kelly': 2448, 'pupil': 3530, 'initiative': 2255, 'penalty': 3242, 'notice': 3039, 'tackle': 4407, 'absence': 13, 'permit': 3263, 'classroom': 789, 'class': 787, 'adopt': 69, 'attendance': 306, 'behaviour': 414, 'improvement': 2202, 'sweep': 4393, 'patrol': 3223, 'hotspot': 2121, 'twice': 4651, 'addition': 60, 'youngster': 4988, 'accompany': 30, 'seize': 3963, 'tool': 4545, 'crack': 1029, 'federer': 1663, 'roger': 3815, 'trophy': 4625, 'test': 4475, 'deep': 1145, 'tense': 4465, 'tiebreak': 4518, 'swiss': 4398, 'cool': 993, 'though': 4499, 'style': 4306, 'indoor': 2236, 'confidence': 916, 'rhythm': 3775, 'showing': 4048, 'badly': 355, 'suddenly': 4328, 'loose': 2637, 'ball': 365, 'overall': 3149, 'positive': 3375, 'slight': 4100, 'adjust': 64, 'nationwide': 2957, 'halve': 1995, 'mortgage': 2890, 'approval': 232, 'near': 2964, 'alex': 127, 'downturn': 1324, 'barclays': 379, 'pace': 3167, 'range': 3578, 'slowdown': 4109, 'lending': 2562, 'disappointed': 1253, 'solid': 4133, 'confident': 917, 'medal': 2770, 'circuit': 770, 'scot': 3927, 'hurdle': 2145, 'jose': 2400, 'meeting': 2776, 'madrid': 2672, 'learning': 2541, 'athlete': 296, 'equal': 1498, 'sweden': 4391, 'iaaf': 2152, 'grand': 1938, 'prix': 3451, 'slash': 4096, 'clock': 809, 'wireless': 4924, 'nature': 2960, 'province': 3513, 'china': 753, 'instal': 2271, 'activity': 48, 'image': 2175, 'colleague': 834, 'observe': 3054, 'feed': 1665, 'tiny': 4527, 'researcher': 3725, 'foster': 1777, 'precious': 3399, 'intel': 2287, 'infrastructure': 2249, 'arrive': 262, 'walk': 4832, 'disk': 1271, 'notebook': 3037, 'cultural': 1069, 'link': 2601, 'globe': 1906, 'lab': 2492, 'incorporate': 2213, 'collaboration': 832, 'federation': 1662, 'primary': 3436, 'hook': 2107, 'peer': 3237, 'culture': 1070, 'founder': 1781, 'elli': 1435, 'franz': 1795, 'ferdinand': 1673, 'frontman': 1815, 'kapranos': 2436, 'musician': 2935, 'lecture': 2545, 'discussion': 1268, 'thrive': 4508, 'bed': 407, 'prestigious': 3427, 'scotland': 3928, 'century': 711, 'element': 1429, 'musical': 2934, 'require': 3721, 'ally': 142, 'particular': 3201, 'glasgow': 1902, 'album': 124, 'mercury': 2795, 'listen': 2608, 'restrict': 3747, 'troubled': 4627, 'scissor': 3922, 'towards': 4565, 'define': 1155, 'encourage': 1462, 'creativity': 1036, 'fellow': 1669, 'composer': 891, 'soviet': 4162, 'mikhail': 2825, 'author': 324, 'professor': 3468, 'upcoming': 4721, 'exercise': 1568, 'discover': 1263, 'scrap': 3931, 'licence': 2585, 'voice': 4816, 'etc': 1519, 'art': 265, 'lottery': 2644, 'grant': 1939, 'diversity': 1286, 'merit': 2798, 'genuinely': 1880, 'seriously': 3985, 'appreciate': 229, 'snow': 4123, 'fundamental': 1831, 'sorry': 4151, 'lucky': 2655, 'subsidy': 4316, 'corporate': 1004, 'sponsorship': 4201, 'yes': 4982, 'joy': 2409, 'mass': 2738, 'sit': 4083, 'thumb': 4511, 'waste': 4853, 'pop': 3358, 'reinforce': 3671, 'treasury': 4599, 'charity': 730, 'facility': 1614, 'equipment': 1502, 'cheap': 739, 'beyond': 444, 'extent': 1604, 'condition': 912, 'flourish': 1739, 'willing': 4908, 'breakthrough': 550, 'modern': 2866, 'pretty': 3429, 'convince': 991, 'generate': 1873, 'financially': 1705, 'penalise': 3241, 'sector': 3955, 'artistic': 270, 'specifically': 4179, 'design': 1202, 'pocket': 3338, 'creative': 1035, 'solution': 4135, 'jamieson': 2364, 'justice': 2431, 'hurt': 2147, 'celtic': 705, 'ranger': 3579, 'stop': 4266, 'associate': 286, 'objective': 3051, 'clash': 786, 'section': 3954, 'jack': 2354, 'mcconnell': 2757, 'representative': 3716, 'summit': 4341, 'among': 167, 'invite': 2321, 'squeeze': 4219, 'tension': 4466, 'violence': 4796, 'religious': 3684, 'identify': 2163, 'indicate': 2228, 'additional': 61, 'inappropriate': 2204, 'educational': 1406, 'stick': 4260, 'intention': 2294, 'lib': 2580, 'dems': 1181, 'commissioner': 859, 'survey': 4372, 'tps': 4570, 'marketing': 2724, 'eu': 1524, 'directive': 1245, 'privacy': 3447, 'electronic': 1427, 'membership': 2783, 'identification': 2162, 'legal': 2551, 'advice': 81, 'subscriber': 4311, 'phil': 3282, 'jones': 2398, 'register': 3660, 'voting': 4823, 'regulation': 3666, 'summary': 4339, 'check': 741, 'depend': 1191, 'dem': 1171, 'matthew': 2747, 'occasion': 3060, 'therefore': 4489, 'guideline': 1973, 'appoint': 227, 'choose': 758, 'immediately': 2181, 'relate': 3673, 'prof': 3466, 'opinion': 3105, 'approach': 230, 'affect': 88, 'strengthen': 4283, 'oxford': 3165, 'train': 4584, 'college': 837, 'switzerland': 4400, 'proud': 3509, 'eye': 1611, 'economic': 1392, 'index': 2225, 'morgan': 2884, 'optimism': 3112, 'contrast': 974, 'quarterly': 3547, 'manufacturer': 2707, 'weak': 4860, 'blame': 473, 'trader': 4575, 'strength': 4282, 'slide': 4099, 'recession': 3620, 'reform': 3650, 'lewsey': 2577, 'josh': 2402, 'wasp': 4851, 'wing': 4917, 'bundle': 599, 'referee': 3644, 'kaplan': 2435, 'touch': 4554, 'turnover': 4648, 'whistle': 4892, 'irish': 2335, 'scoop': 3923, 'surprise': 4367, 'cueto': 1067, 'offside': 3081, 'technique': 4440, 'salary': 3880, 'mandatory': 2698, 'retirement': 3758, 'consult': 950, 'overhaul': 3151, 'affordable': 91, 'sustainable': 4382, 'expensive': 1581, 'green': 1947, 'consultation': 953, 'widespread': 4902, 'anger': 187, 'chancellor': 723, 'servant': 3986, 'trade': 4574, 'congress': 925, 'dave': 1112, 'unison': 4701, 'provision': 3514, 'raw': 3593, 'nh': 2998, 'bonus': 509, 'afford': 90, 'conflict': 920, 'rethink': 3756, 'apart': 215, 'generous': 1876, 'mutual': 2939, 'insurer': 2282, 'criticism': 1051, 'axa': 343, 'sun': 4342, 'gill': 1897, 'division': 1290, 'historic': 2078, 'float': 1735, 'lift': 2592, 'drink': 1337, 'food': 1750, 'france': 1790, 'wall': 4835, 'journal': 2405, 'french': 1806, 'spirit': 4194, 'paris': 3190, 'slip': 4103, 'acquisition': 42, 'purchase': 3531, 'luxury': 2662, 'wine': 4916, 'chain': 715, 'consolidation': 940, 'portfolio': 3366, 'rover': 3839, 'ferguson': 1674, 'barry': 386, 'midfielder': 2817, 'transfer': 4587, 'negotiation': 2973, 'midnight': 2819, 'concede': 901, 'determine': 1219, 'pensioner': 3245, 'saving': 3902, 'payment': 3230, 'discount': 1262, 'ed': 1396, 'scandal': 3909, 'compete': 877, 'household': 2124, 'ukraine': 4665, 'privatisation': 3449, 'dozen': 1325, 'corruption': 1008, 'viktor': 4790, 'yushchenko': 4994, 'mention': 2789, 'oust': 3132, 'separate': 3977, 'brussels': 585, 'atlantic': 298, 'treaty': 4602, 'transparent': 4594, 'spotlight': 4205, 'nerve': 2979, 'steel': 4249, 'rich': 3776, 'reward': 3771, 'relation': 3674, 'ready': 3602, 'topic': 4547, 'visa': 4804, 'requirement': 3722, 'deserve': 1201, 'honest': 2103, 'response': 3740, 'associated': 287, 'interview': 2311, 'difficulty': 1237, 'wto': 4970, 'mandelson': 2699, 'careful': 662, 'russia': 3861, 'border': 515, 'moscow': 2891, 'eternal': 1520, 'strategic': 4275, 'henson': 2058, 'lion': 2603, 'zealand': 4995, 'gavin': 1863, 'clean': 793, 'mathew': 2744, 'tait': 4410, 'outside': 3144, 'brian': 554, 'driscoll': 1339, 'midfield': 2816, 'wales': 4831, 'direction': 1244, 'bet': 440, 'tight': 4520, 'prop': 3490, 'julian': 2417, 'selection': 3965, 'jenkins': 2375, 'vickery': 4780, 'frame': 1788, 'harm': 2019, 'joe': 2385, 'worsley': 4956, 'nothing': 3038, 'catch': 686, 'smith': 4119, 'hogg': 2089, 'robust': 3809, 'woodward': 4940, 'italy': 2349, 'arcy': 243, 'injured': 2258, 'combination': 842, 'connell': 928, 'edge': 1398, 'malcolm': 2689, 'shane': 4007, 'byrne': 619, 'character': 728, 'italian': 2348, 'peel': 3236, 'trail': 4583, 'possession': 3376, 'kirwan': 2476, 'successive': 4326, 'teach': 4433, 'mistake': 2853, 'aggressive': 103, 'calm': 632, 'pitch': 3309, 'recall': 3615, 'experienced': 1583, 'draft': 1327, 'maso': 2737, 'flanker': 1728, 'bergamasco': 434, 'paterson': 3218, 'craig': 1031, 'capt': 652, 'kerr': 2455, 'murray': 2929, 'douglas': 1318, 'ross': 3832, 'de': 1120, 'marigny': 2719, 'masi': 2736, 'nitoglia': 3015, 'orquera': 3125, 'troncon': 4623, 'lo': 2621, 'cicero': 767, 'bortolami': 520, 'ca': 620, 'del': 1160, 'robertson': 3804, 'regulator': 3667, 'recommend': 3624, 'painkiller': 3176, 'stroke': 4293, 'advisory': 85, 'verdict': 4770, 'hear': 2040, 'shop': 4034, 'patient': 3220, 'justify': 2432, 'increased': 2215, 'shelf': 4023, 'tumble': 4638, 'aside': 274, 'alarm': 121, 'bell': 423, 'note': 3036, 'harmful': 2020, 'announcement': 200, 'unique': 4700, 'graham': 1935, 'safety': 3875, 'calculation': 628, 'handling': 2005, 'medicine': 2773, 'doctor': 1293, 'cautious': 693, 'ax': 342, 'journalist': 2406, 'afternoon': 96, 'react': 3597, 'reader': 3600, 'amid': 165, 'ballot': 367, 'voluntary': 4820, 'strongly': 4295, 'tear': 4436, 'procedure': 3457, 'jeremy': 2377, 'ignore': 2169, 'tabloid': 4406, 'format': 1767, 'circulation': 772, 'size': 4089, 'guardian': 1966, 'continental': 968, 'frederick': 1799, 'colour': 839, 'coming': 851, 'print': 3441, 'publication': 3520, 'attractive': 312, 'corp': 1003, 'unit': 4702, 'mirror': 2848, 'mail': 2678, 'plant': 3318, 'dual': 1351, 'twickenham': 4652, 'failure': 1623, 'boy': 533, 'sight': 4058, 'regret': 3662, 'email': 1440, 'fully': 1827, 'tobacco': 4531, 'smoking': 4121, 'clinton': 806, 'washington': 4850, 'reynolds': 3773, 'manipulate': 2701, 'addiction': 59, 'teenager': 4444, 'lie': 2588, 'danger': 1102, 'contrary': 973, 'impose': 2194, 'columbia': 840, 'sue': 4329, 'illegally': 2173, 'landmark': 2505, 'ruling': 3850, 'unexpected': 4691, 'competitor': 881, 'slam': 4095, 'retire': 3757, 'surgery': 4364, 'wta': 4969, 'elena': 1430, 'dementieva': 1173, 'comeback': 846, 'region': 3658, 'india': 2226, 'rupee': 3856, 'utility': 4746, 'bt': 588, 'ofcom': 3067, 'surpass': 4365, 'per': 3249, 'netherlands': 2984, 'used': 4738, 'copper': 997, 'speed': 4186, 'dramatic': 1332, 'satisfy': 3896, 'retail': 3753, 'telecommunication': 4448, 'influence': 2245, 'loop': 2635, 'install': 2272, 'hardware': 2017, 'ntl': 3044, 'route': 3837, 'percentage': 3252, 'fiat': 1682, 'gm': 1909, 'car': 656, 'outright': 3143, 'pile': 3299, 'saab': 3868, 'auto': 326, 'combine': 843, 'footage': 1753, 'diverse': 1285, 'lover': 2646, 'publicity': 3521, 'newcomer': 2992, 'attract': 310, 'soap': 4124, 'controller': 979, 'exciting': 1563, 'era': 1505, 'ultimate': 4667, 'natural': 2959, 'offering': 3073, 'exact': 1550, 'slot': 4106, 'transmit': 4592, 'buzz': 618, 'blogging': 483, 'bug': 593, 'blog': 481, 'msn': 2917, 'space': 4163, 'aol': 214, 'log': 2629, 'upload': 4725, 'photo': 3289, 'blake': 472, 'phenomenon': 3281, 'blogger': 482, 'accurate': 34, 'existence': 1572, 'speculate': 4183, 'regularly': 3664, 'indonesia': 2234, 'economics': 1393, 'reportedly': 3711, 'originally': 3124, 'owe': 3160, 'package': 3170, 'unnecessary': 4714, 'normal': 3026, 'deficit': 1154, 'indonesian': 2235, 'soft': 4128, 'aceh': 37, 'nevertheless': 2988, 'deputy': 1197, 'true': 4628, 'sri': 4220, 'lanka': 2509, 'criticise': 1050, 'rely': 3687, 'resource': 3735, 'lower': 2648, 'borrow': 517, 'separately': 3978, 'monthly': 2879, 'lesson': 2570, 'hutt': 2149, 'essential': 1513, 'plaid': 3312, 'cymru': 1086, 'agenda': 101, 'valley': 4749, 'tremendous': 4605, 'length': 2563, 'treatment': 4601, 'useful': 4739, 'respond': 3738, 'priority': 3444, 'consistent': 937, 'overshadow': 3155, 'told': 4535, 'baby': 347, 'apparent': 218, 'underlying': 4685, 'corner': 1002, 'singapore': 4077, 'ministry': 2844, 'advance': 74, 'manufacturing': 2708, 'modest': 2867, 'gross': 1957, 'gdp': 1867, 'drag': 1328, 'jp': 2410, 'chase': 736, 'weigh': 4875, 'soar': 4125, 'consecutive': 931, 'sum': 4338, 'vaccine': 4748, 'chest': 747, 'joint': 2392, 'institute': 2276, 'marginal': 2717, 'joseph': 2401, 'rowntree': 3841, 'constitutional': 948, 'mcdonald': 2758, 'independence': 2223, 'offence': 3068, 'declaration': 1139, 'student': 4299, 'youth': 4989, 'traditional': 4578, 'fixture': 1726, 'properly': 3492, 'phillips': 3284, 'shame': 4006, 'enter': 1484, 'humphreys': 2140, 'darren': 1107, 'morris': 2888, 'martyn': 2733, 'sweeney': 4392, 'tuc': 4635, 'submission': 4309, 'examine': 1552, 'childcare': 752, 'manufacture': 2706, 'frontline': 1814, 'practical': 3395, 'poverty': 3389, 'tech': 4437, 'disabled': 1249, 'aspect': 277, 'thanks': 4482, 'technological': 4441, 'grid': 1954, 'yesterday': 4983, 'adapt': 55, 'vehicle': 4761, 'motorcycle': 2898, 'roy': 3842, 'gear': 1869, 'leg': 2549, 'foot': 1752, 'govern': 1924, 'eventually': 1536, 'invention': 2314, 'isle': 2343, 'keen': 2444, 'prejudice': 3405, 'joke': 2394, 'rally': 3576, 'variety': 4755, 'driver': 1341, 'clutch': 820, 'automatic': 327, 'steer': 4250, 'wheel': 4887, 'tradition': 4577, 'champion': 720, 'modify': 2868, 'daughter': 1111, 'climb': 803, 'seat': 3946, 'sydney': 4401, 'marathon': 2712, 'trevor': 4608, 'engineering': 1475, 'minor': 2845, 'remove': 3696, 'yukos': 4993, 'russian': 3862, 'auction': 314, 'yuganskneftegas': 4992, 'yugansk': 4991, 'gas': 1859, 'gazprom': 1865, 'baikal': 360, 'rosneft': 3831, 'submit': 4310, 'houston': 2128, 'dispute': 1276, 'chapter': 727, 'filing': 1695, 'regain': 3653, 'vow': 4824, 'jurisdiction': 2428, 'dismiss': 1273, 'clark': 783, 'hearing': 2042, 'argument': 250, 'forum': 1775, 'chunk': 765, 'profitable': 3472, 'punish': 3528, 'khodorkovsky': 2463, 'evasion': 1531, 'repeatedly': 3705, 'bail': 361, 'glory': 1907, 'anfield': 184, 'uefa': 4661, 'technical': 4438, 'contender': 961, 'battery': 394, 'advantage': 76, 'thought': 4500, 'disadvantage': 1250, 'perfect': 3254, 'enthusiasm': 1488, 'plenty': 3332, 'mental': 2787, 'vary': 4757, 'physical': 3293, 'physically': 3294, 'mentally': 2788, 'rb': 3595, 'hamstring': 1999, 'undergo': 4682, 'kevin': 2457, 'maggs': 2675, 'obvious': 3058, 'horgan': 2114, 'ulster': 4666, 'squad': 4217, 'wasps': 4852, 'johnny': 2389, 'connor': 929, 'denis': 1184, 'leamy': 2538, 'murphy': 2928, 'hickie': 2063, 'gara': 1852, 'stringer': 4291, 'hayes': 2027, 'easterby': 1383, 'foley': 1747, 'horan': 2113, 'callaghan': 631, 'miller': 2834, 'dempsey': 1180, 'basis': 390, 'menatep': 2786, 'convict': 989, 'object': 3050, 'running': 3854, 'fiction': 1683, 'politically': 3350, 'motivate': 2895, 'vladimir': 4812, 'putin': 3536, 'rein': 3670, 'protection': 3504, 'texas': 4476, 'suggestion': 4333, 'wrongdoing': 4968, 'violate': 4794, 'sec': 3948, 'unnamed': 4713, 'agent': 102, 'slogan': 4104, 'shortly': 4041, 'prosecute': 3498, 'bribe': 555, 'juan': 2411, 'antonio': 207, 'lopez': 2638, 'mourinho': 2902, 'streak': 4279, 'qualify': 3543, 'following': 1749, 'straw': 4278, 'welcome': 4877, 'pakistan': 3180, 'bus': 608, 'peace': 3234, 'decade': 1131, 'holy': 2099, 'pakistani': 3181, 'rail': 3573, 'nuclear': 3045, 'mumbai': 2923, 'bombay': 505, 'fox': 1785, 'minority': 2846, 'broadcasting': 574, 'subsidiary': 4315, 'robot': 3807, 'retain': 3755, 'institution': 2277, 'cent': 707, 'hollywood': 2096, 'rebuild': 3614, 'insight': 2267, 'cry': 1059, 'mother': 2893, 'turkish': 4643, 'neighbour': 2974, 'belgian': 419, 'screening': 3933, 'jude': 2412, 'hoffman': 2088, 'animation': 194, 'incredibles': 2218, 'crew': 1042, 'rapper': 3585, 'millennium': 2833, 'jointly': 2393, 'un': 4671, 'norway': 3033, 'legally': 2552, 'bind': 456, 'barrier': 385, 'hilary': 2073, 'disguise': 1270, 'chinese': 754, 'dam': 1093, 'defy': 1158, 'beijing': 416, 'gorge': 1923, 'construction': 949, 'environmental': 1495, 'underground': 4683, 'assessment': 281, 'comply': 889, 'yuan': 4990, 'electricity': 1426, 'factory': 1617, 'river': 3798, 'sand': 3889, 'relocate': 3685, 'cult': 1068, 'kasabian': 2437, 'indie': 2231, 'blend': 476, 'shortlist': 4040, 'keane': 2441, 'sea': 3939, 'scare': 3911, 'pirate': 3305, 'trio': 4618, 'spot': 4203, 'pub': 3518, 'hey': 2062, 'inspire': 2270, 'genre': 1878, 'hip': 2076, 'guitar': 1976, 'roll': 3818, 'killer': 2469, 'remote': 3695, 'water': 4856, 'unusual': 4717, 'orange': 3115, 'critical': 1049, 'acclaim': 28, 'comparison': 873, 'stone': 4265, 'typical': 4657, 'reception': 3619, 'embark': 1442, 'upon': 4726, 'patch': 3215, 'rapid': 3583, 'sufficient': 4331, 'dangerous': 1103, 'wood': 4938, 'slovakia': 4107, 'argentina': 246, 'hantuchova': 2011, 'dutchman': 1365, 'mixed': 2857, 'alicia': 131, 'pleased': 3330, 'preparation': 3412, 'substitute': 4320, 'goldsmith': 1919, 'iraq': 2331, 'eve': 1532, 'crucial': 1056, 'resist': 3731, 'confidential': 918, 'consumption': 956, 'exactly': 1551, 'dossier': 1314, 'weapon': 4864, 'destruction': 1211, 'personally': 3269, 'solicitor': 4132, 'qc': 3540, 'military': 2829, 'council': 1014, 'resolution': 3732, 'robin': 3805, 'cook': 992, 'parliamentary': 3194, 'mislead': 2850, 'formal': 1765, 'fair': 1624, 'butler': 613, 'absolute': 14, 'convention': 983, 'sanction': 3888, 'burger': 602, 'ben': 427, 'argentine': 247, 'tribute': 4611, 'amaze': 155, 'irb': 2333, 'gloucester': 1908, 'amnesty': 166, 'outrage': 3142, 'khan': 2462, 'guantanamo': 1963, 'bay': 396, 'cuba': 1064, 'prisoner': 3446, 'translate': 4590, 'faith': 1626, 'governance': 1925, 'gap': 1851, 'relevant': 3680, 'letter': 2572, 'social': 4126, 'read': 3599, 'dent': 1187, 'swede': 4390, 'johansson': 2387, 'belgium': 420, 'olivier': 3086, 'rochus': 3810, 'lleyton': 2619, 'hewitt': 2061, 'concentration': 903, 'rebound': 3613, 'relatively': 3677, 'delivery': 1168, 'abn': 9, 'amro': 171, 'blast': 475, 'saudi': 3898, 'arabia': 236, 'briefly': 559, 'exporter': 1596, 'lansdowne': 2510, 'frustration': 1818, 'piece': 3297, 'heavily': 2046, 'query': 3549, 'refer': 3643, 'wipe': 4923, 'angle': 188, 'danny': 1105, 'grewcock': 1953, 'ronan': 3827, 'corry': 1009, 'brilliant': 563, 'kicking': 2466, 'component': 890, 'outstanding': 3146, 'defensive': 1153, 'equally': 1500, 'superb': 4348, 'stevens': 4258, 'steam': 4248, 'suck': 4327, 'unfortunately': 4694, 'volume': 4819, 'mike': 2824, 'ford': 1757, 'bow': 530, 'revise': 3767, 'negative': 2971, 'worrying': 4954, 'implication': 2190, 'phase': 3279, 'upward': 4729, 'carefully': 663, 'indication': 2229, 'observer': 3055, 'picture': 3296, 'apparently': 219, 'kanye': 2434, 'grammys': 1937, 'prominence': 3479, 'solo': 4134, 'crash': 1032, 'subsequent': 4313, 'commercially': 857, 'rap': 3582, 'chicago': 748, 'sample': 3884, 'revive': 3769, 'update': 4722, 'god': 1914, 'mainstream': 2681, 'recognition': 3623, 'door': 1310, 'jackson': 2356, 'fracture': 1787, 'sink': 4080, 'thank': 4481, 'inch': 2207, 'sharp': 4014, 'largely': 2515, 'gun': 1978, 'girl': 1898, 'quickly': 3554, 'foxx': 1786, 'influential': 2246, 'housewife': 2126, 'desperate': 1206, 'drama': 1331, 'proportion': 3494, 'freeview': 1804, 'ownership': 3164, 'portion': 3367, 'mauresmo': 2749, 'maria': 2718, 'vera': 4769, 'svetlana': 4385, 'kuznetsova': 2490, 'serena': 3981, 'split': 4196, 'ninth': 3011, 'overtake': 3156, 'davenport': 1113, 'usher': 4742, 'mad': 2670, 'clijsters': 801, 'sometimes': 4141, 'atmosphere': 299, 'excitement': 1562, 'lisbon': 2606, 'tone': 4542, 'dutch': 1364, 'assess': 280, 'conclusion': 910, 'status': 4243, 'employment': 1458, 'ink': 2260, 'dry': 1349, 'circumstance': 773, 'employer': 1457, 'habit': 1982, 'creation': 1034, 'inclusion': 2210, 'broad': 570, 'thus': 4514, 'narrow': 2949, 'indicator': 2230, 'emphasis': 1453, 'necessarily': 2966, 'anymore': 209, 'sail': 3877, 'belief': 421, 'ambitious': 160, 'palmer': 3184, 'innovative': 2263, 'workforce': 4945, 'manuel': 2705, 'recommendation': 3625, 'article': 267, 'command': 852, 'weekly': 4874, 'adviser': 83, 'various': 4756, 'edition': 1401, 'novel': 3042, 'blunkett': 489, 'limited': 2598, 'hamper': 1998, 'mexico': 2808, 'jet': 2379, 'bafta': 356, 'rent': 3700, 'flat': 1730, 'calculate': 627, 'ethnic': 1523, 'skin': 4091, 'religion': 3683, 'discrimination': 1266, 'son': 4144, 'immigrant': 2184, 'racial': 3564, 'enterprise': 1485, 'tolerance': 4536, 'muslim': 2936, 'terrible': 4469, 'select': 3964, 'abolish': 10, 'compulsory': 897, 'sex': 4001, 'urban': 4730, 'spare': 4170, 'incentive': 2206, 'highly': 2070, 'loyal': 2649, 'exclusive': 1565, 'nigel': 3006, 'consultancy': 951, 'tout': 4564, 'possibility': 3377, 'subscription': 4312, 'ian': 2153, 'fogg': 1745, 'jupiter': 2426, 'mcclaren': 2756, 'steve': 4256, 'boro': 516, 'expense': 1580, 'idol': 2166, 'extremely': 1609, 'passage': 3209, 'hong': 2104, 'kong': 2486, 'territory': 4470, 'pool': 3355, 'presentation': 3418, 'stiff': 4261, 'spin': 4193, 'abroad': 12, 'native': 2958, 'mexican': 2807, 'rarely': 3587, 'millan': 2832, 'san': 3887, 'usually': 4744, 'globally': 1905, 'station': 4241, 'impossible': 2195, 'navigate': 2961, 'dj': 1291, 'eminem': 1450, 'latin': 2520, 'exposure': 1598, 'anywhere': 213, 'cuban': 1065, 'surprising': 4369, 'expand': 1574, 'boyd': 534, 'correspondent': 1007, 'import': 2191, 'commerce': 855, 'appetite': 223, 'cheese': 743, 'clamp': 782, 'unfair': 4692, 'currency': 1075, 'rapidly': 3584, 'widen': 4900, 'jam': 2360, 'universal': 4706, 'appointment': 228, 'found': 1779, 'island': 2342, 'carter': 676, 'inherit': 2252, 'rick': 3779, 'enemy': 1467, 'blow': 486, 'underline': 4684, 'qatar': 3539, 'wild': 4904, 'thomas': 4496, 'hail': 1986, 'organiser': 3121, 'epic': 1496, 'celebrate': 701, 'silver': 4065, 'spacey': 4164, 'keanu': 2442, 'reef': 3642, 'academy': 20, 'fill': 1696, 'carpet': 672, 'beckham': 405, 'skipper': 4092, 'bernabeu': 436, 'momentum': 2870, 'terry': 4474, 'beach': 398, 'boys': 535, 'beverly': 443, 'evolve': 1549, 'rip': 3792, 'murder': 2926, 'tate': 4425, 'rumour': 3851, 'circulate': 771, 'taking': 4413, 'trap': 4596, 'distributor': 1283, 'venice': 4765, 'forthcoming': 1771, 'gateshead': 1861, 'safe': 3872, 'oliver': 3085, 'letwin': 2573, 'teacher': 4434, 'lay': 2528, 'bust': 611, 'platform': 3321, 'stability': 4222, 'warm': 4843, 'minimum': 2840, 'flexibility': 1733, 'maternity': 2743, 'interactive': 2297, 'brave': 543, 'keeper': 2446, 'quiet': 3555, 'damien': 1097, 'duff': 1358, 'kezman': 2461, 'gallas': 1839, 'header': 2032, 'robbie': 3802, 'fowler': 1784, 'lampard': 2502, 'tip': 4528, 'volley': 4818, 'deprive': 1195, 'robben': 3801, 'drogba': 1344, 'shaun': 4016, 'eriksson': 1508, 'thatcher': 4484, 'shot': 4042, 'parry': 3196, 'swiftly': 4396, 'divert': 1287, 'gudjohnsen': 1967, 'path': 3219, 'cech': 700, 'sheet': 4021, 'czech': 1088, 'republic': 3717, 'dunne': 1361, 'post': 3380, 'sub': 4307, 'cudicini': 1066, 'mill': 2831, 'yorkshire': 4986, 'mutu': 2938, 'adrian': 71, 'substance': 4317, 'consideration': 936, 'fifa': 1687, 'disciplinary': 1258, 'doping': 1312, 'inform': 2247, 'michelle': 2811, 'prepared': 3414, 'sexual': 4002, 'broadway': 575, 'christian': 761, 'revival': 3768, 'preview': 3431, 'philip': 3283, 'unchanged': 4679, 'cunningham': 1071, 'jim': 2381, 'agriculture': 108, 'affair': 87, 'controversy': 981, 'bone': 507, 'quit': 3558, 'alert': 126, 'carmaker': 668, 'van': 4753, 'suv': 4384, 'affected': 89, 'fault': 1652, 'leak': 2537, 'healthcare': 2037, 'screensaver': 3935, 'spam': 4166, 'portal': 3365, 'lycos': 2663, 'spammer': 4167, 'server': 3988, 'filter': 1698, 'load': 2622, 'gigabyte': 1895, 'typically': 4658, 'offset': 3079, 'burden': 600, 'weight': 4876, 'offensive': 3071, 'reddy': 3635, 'flag': 1727, 'generic': 1875, 'pharmaceutical': 3278, 'patent': 3216, 'poorly': 3357, 'petrol': 3275, 'sweet': 4394, 'refine': 3647, 'citigroup': 775, 'cooper': 994, 'coast': 824, 'elsewhere': 1437, 'bp': 536, 'anticipate': 206, 'ibm': 2154, 'intellectual': 2288, 'freely': 1802, 'database': 1109, 'operating': 3102, 'linux': 2602, 'undermine': 4686, 'liken': 2596, 'stuart': 4298, 'cohen': 827, 'lobby': 2624, 'programmer': 3475, 'storage': 4267, 'benitez': 432, 'dudek': 1355, 'finger': 1710, 'goalkeeper': 1913, 'gerrard': 1887, 'costly': 1011, 'disappointing': 1254, 'csa': 1061, 'angry': 190, 'enforce': 1469, 'penny': 3243, 'doug': 1317, 'audit': 317, 'stag': 4227, 'seventh': 3997, 'guess': 1969, 'fold': 1746, 'cruise': 1058, 'setting': 3993, 'prototype': 3508, 'internationally': 2305, 'seafarer': 3940, 'passport': 3212, 'owner': 3163, 'document': 1294, 'caribbean': 665, 'machine': 2667, 'nationality': 2956, 'explore': 1592, 'commit': 860, 'specification': 4180, 'port': 3363, 'ratify': 3591, 'combat': 841, 'whilst': 4890, 'guarantee': 1964, 'safer': 3874, 'piracy': 3304, 'depp': 1194, 'reduced': 3639, 'loophole': 2636, 'reduction': 3640, 'postpone': 3383, 'libertine': 2582, 'drake': 1330, 'endure': 1466, 'thunderbird': 4512, 'opener': 3098, 'disc': 1257, 'neck': 2968, 'davy': 1117, 'frustrate': 1817, 'colin': 831, 'ruddock': 3847, 'tempt': 4460, 'osprey': 3128, 'painful': 3175, 'evening': 1534, 'kingdom': 2474, 'swell': 4395, 'thierry': 4490, 'amplify': 170, 'buyer': 616, 'gerhard': 1884, 'schroeder': 3919, 'lifestyle': 2590, 'scope': 3924, 'playback': 3323, 'nokia': 3019, 'incompatible': 2212, 'evolution': 1548, 'convergence': 985, 'pipeline': 3303, 'normally': 3027, 'drm': 1343, 'lock': 2628, 'transaction': 4586, 'supplier': 4352, 'dominant': 1302, 'smart': 4116, 'ec': 1390, 'perry': 3264, 'jerry': 2378, 'remember': 3693, 'sing': 4076, 'theme': 4487, 'tune': 4639, 'pilot': 3300, 'birthday': 462, 'lyric': 2665, 'slug': 4111, 'fancy': 1636, 'shooter': 4032, 'encounter': 1461, 'soldier': 4130, 'zombie': 4997, 'alien': 132, 'guard': 1965, 'gameplay': 1846, 'genius': 1877, 'vast': 4758, 'array': 259, 'bizarre': 466, 'tank': 4418, 'visual': 4809, 'blockbuster': 480, 'safin': 3876, 'marat': 2711, 'nightmare': 3008, 'study': 4301, 'earmark': 1374, 'planning': 3317, 'expenditure': 1579, 'earthquake': 1378, 'wave': 4857, 'southern': 4161, 'developed': 1223, 'billion': 453, 'resort': 3734, 'tourist': 4562, 'lloyd': 2620, 'hurricane': 2146, 'unclear': 4680, 'serge': 3982, 'unlike': 4711, 'zurich': 4999, 'malaysia': 2688, 'edward': 1407, 'maldives': 2690, 'village': 4792, 'overturn': 3157, 'setback': 3992, 'anthony': 205, 'smoke': 4120, 'hammer': 1997, 'hotel': 2120, 'unified': 4696, 'apple': 224, 'mac': 2666, 'mini': 2839, 'desktop': 1205, 'evans': 1530, 'deeply': 1146, 'plus': 3336, 'netcraft': 2983, 'offline': 3078, 'nick': 3002, 'pro': 3453, 'premium': 3411, 'perception': 3253, 'memory': 2784, 'traditionally': 4579, 'odd': 3065, 'upgrade': 4723, 'gartner': 1857, 'category': 688, 'computing': 900, 'greene': 1948, 'maurice': 2750, 'athens': 295, 'bronze': 578, 'greece': 1945, 'justin': 2433, 'sprint': 4210, 'middle': 2814, 'gold': 1917, 'relay': 3678, 'resume': 3752, 'outdoor': 3135, 'blind': 477, 'map': 2710, 'victor': 4782, 'wong': 4936, 'graphic': 1940, 'specialist': 4177, 'photograph': 3290, 'pen': 3240, 'individually': 2233, 'pixel': 3310, 'scale': 3906, 'application': 225, 'scan': 3908, 'mind': 2837, 'industrial': 2238, 'dramatically': 1333, 'outlook': 3140, 'worsen': 4955, 'jobless': 2384, 'brush': 584, 'stan': 4232, 'thompson': 4497, 'foul': 1778, 'bellamy': 424, 'busy': 612, 'juninho': 2423, 'sheridan': 4025, 'collect': 835, 'intervention': 2310, 'yard': 4978, 'defender': 1152, 'burn': 604, 'gibson': 1892, 'morrison': 2889, 'wilson': 4910, 'lennon': 2565, 'bennett': 433, 'circle': 769, 'victoria': 4783, 'promising': 3482, 'eddie': 1397, 'performer': 3258, 'dame': 1096, 'samuel': 3886, 'probably': 3454, 'messaging': 2802, 'transmission': 4591, 'megabit': 2777, 'mile': 2828, 'kent': 2451, 'rural': 3857, 'steal': 4247, 'bob': 495, 'principal': 3439, 'wider': 4901, 'hybrid': 2150, 'fix': 1724, 'voip': 4817, 'motorola': 2899, 'itunes': 2351, 'confront': 921, 'enormous': 1480, 'greek': 1946, 'sprinter': 4211, 'kostas': 2489, 'kenteris': 2452, 'katerina': 2439, 'thanou': 4483, 'olympics': 3089, 'athletics': 297, 'explanation': 1588, 'unacceptable': 4673, 'tzekos': 4660, 'medallist': 2771, 'tel': 4445, 'aviv': 334, 'fake': 1627, 'dope': 1311, 'violation': 4795, 'arbitration': 238, 'runner': 3853, 'innocent': 2261, 'slim': 4102, 'triple': 4620, 'outstrip': 3147, 'theft': 4486, 'andreas': 180, 'copy': 998, 'gta': 1962, 'estimated': 1518, 'azkaban': 344, 'adult': 73, 'nanny': 2947, 'uncover': 4681, 'judicial': 2415, 'negotiate': 2972, 'webpage': 4868, 'amazon': 157, 'permission': 3262, 'directly': 1246, 'library': 2584, 'unfortunate': 4693, 'entirely': 1490, 'tag': 4409, 'none': 3023, 'trick': 4612, 'comic': 850, 'slice': 4098, 'marvel': 2734, 'extraordinary': 1607, 'everyday': 1542, 'jewish': 2380, 'romania': 3821, 'imagination': 2176, 'hack': 1983, 'wonder': 4934, 'super': 4347, 'bombard': 504, 'forever': 1762, 'frequently': 1808, 'pour': 3388, 'universe': 4707, 'bite': 464, 'icon': 2157, 'hero': 2060, 'iron': 2336, 'edit': 1400, 'bankrupt': 374, 'winger': 4918, 'ali': 130, 'ideal': 2161, 'chat': 737, 'barely': 380, 'fare': 1641, 'toyota': 4569, 'nissan': 3013, 'accelerate': 21, 'assault': 278, 'brien': 560, 'encouraging': 1463, 'effective': 1410, 'adoption': 70, 'proceeding': 3458, 'infringement': 2251, 'us': 4733, 'infringe': 2250, 'afraid': 93, 'cafe': 625, 'rental': 3701, 'female': 1671, 'delta': 1170, 'male': 2691, 'duet': 1357, 'mcfadden': 2759, 'pea': 3233, 'bag': 358, 'harbour': 2014, 'natalie': 2952, 'stunt': 4304, 'taste': 4424, 'noise': 3018, 'poster': 3382, 'shock': 4029, 'delegate': 1163, 'pundit': 3527, 'fortune': 1774, 'mountain': 2901, 'custody': 1080, 'suicide': 4334, 'vulnerable': 4826, 'alcohol': 125, 'offend': 3069, 'obligation': 3052, 'scholes': 3917, 'hang': 2007, 'offender': 3070, 'knife': 2481, 'wonderful': 4935, 'stewart': 4259, 'unveil': 4718, 'stern': 4254, 'paramount': 3188, 'ukip': 4664, 'allegedly': 137, 'empire': 1454, 'mep': 2792, 'manifesto': 2700, 'constitution': 947, 'quote': 3561, 'runway': 3855, 'reap': 3608, 'uncertainty': 4678, 'protester': 3506, 'demonstrate': 1178, 'degree': 1159, 'israel': 2345, 'guest': 1970, 'woolf': 4941, 'veto': 4776, 'chair': 716, 'falconer': 1628, 'safeguard': 3873, 'overlook': 3152, 'establish': 1515, 'breakfast': 549, 'frost': 1816, 'concentrate': 902, 'peston': 3272, 'animosity': 195, 'prescott': 3415, 'deliberately': 1165, 'manoeuvre': 2704, 'understanding': 4688, 'friendly': 1812, 'rift': 3784, 'squabble': 4216, 'electorate': 1424, 'square': 4218, 'cate': 687, 'blanchett': 474, 'fry': 1819, 'imelda': 2178, 'staunton': 4244, 'diane': 1229, 'helen': 2051, 'bond': 506, 'sunshine': 4346, 'spotless': 4204, 'neverland': 2987, 'diary': 1230, 'kate': 2438, 'winslet': 4921, 'nod': 3017, 'owen': 3161, 'repeat': 3704, 'supporting': 4356, 'portman': 3368, 'julie': 2418, 'leigh': 2559, 'mann': 2702, 'liam': 2579, 'repay': 3702, 'expectation': 1577, 'opponent': 3106, 'peg': 3238, 'neil': 2975, 'milan': 2826, 'baros': 383, 'pas': 3207, 'luis': 2658, 'withdrawal': 4927, 'bernard': 437, 'souness': 4156, 'dyer': 1368, 'harrison': 2023, 'benchmark': 429, 'curb': 1073, 'hike': 2072, 'moderate': 2865, 'commonwealth': 867, 'hunt': 2142, 'storm': 4269, 'hunting': 2144, 'bryan': 586, 'tomlinson': 4539, 'formerly': 1769, 'knight': 2482, 'occur': 3062, 'demonstration': 1179, 'dog': 1296, 'countryside': 1021, 'interpretation': 2307, 'somebody': 4137, 'amendment': 161, 'duncan': 1359, 'expected': 1578, 'andrea': 179, 'newsnight': 2994, 'making': 2687, 'taxation': 4428, 'rebate': 3612, 'beauty': 404, 'complain': 883, 'thoroughly': 4498, 'lady': 2500, 'funeral': 1833, 'gb': 1866, 'impressive': 2199, 'yell': 4980, 'clinch': 804, 'nottingham': 3041, 'offshore': 3080, 'charter': 735, 'regulate': 3665, 'forced': 1756, 'shell': 4024, 'punishment': 3529, 'listing': 2610, 'highbury': 2067, 'keegan': 2443, 'shearer': 4018, 'simonetti': 4069, 'anonymous': 202, 'uniform': 4697, 'amongst': 168, 'fictional': 1684, 'flight': 1734, 'ride': 3781, 'material': 2742, 'reasonable': 3610, 'fairly': 1625, 'barcelona': 378, 'hint': 2075, 'ac': 18, 'laptop': 2513, 'toshiba': 4550, 'contributor': 977, 'vendor': 4762, 'buenos': 592, 'resolve': 3733, 'compatriot': 875, 'brazilian': 546, 'deutsche': 1220, 'boerse': 499, 'woo': 4937, 'lse': 2651, 'euronext': 1526, 'bidding': 449, 'amsterdam': 172, 'assurance': 291, 'bidder': 448, 'combined': 844, 'clearing': 796, 'martinez': 2732, 'drunk': 1348, 'secondary': 3950, 'highland': 2068, 'binge': 457, 'drinking': 1338, 'promotion': 3485, 'councillor': 1015, 'irresponsible': 2338, 'spree': 4207, 'consequence': 933, 'sturgeon': 4305, 'context': 965, 'legend': 2553, 'grammy': 1936, 'collection': 836, 'glad': 1901, 'georgia': 1883, 'contemporary': 960, 'spear': 4175, 'recording': 3629, 'rod': 3812, 'elvis': 1439, 'joss': 2404, 'kinnock': 2475, 'acceptance': 24, 'democratic': 1176, 'reservation': 3726, 'substantially': 4319, 'fiscal': 1719, 'wreck': 4961, 'borrowing': 518, 'farmer': 1643, 'capture': 655, 'mission': 2852, 'eliminate': 1433, 'hardly': 2016, 'enforcement': 1470, 'exploration': 1591, 'fantasy': 1639, 'elderly': 1420, 'inevitable': 2240, 'abandon': 2, 'anyway': 212, 'sooner': 4148, 'restore': 3746, 'afghanistan': 92, 'equip': 1501, 'pretend': 3428, 'rivalry': 3797, 'aide': 112, 'funny': 1834, 'dirty': 1248, 'walker': 4833, 'frankfurt': 1794, 'monopoly': 2876, 'commentator': 854, 'formally': 1766, 'gizmondo': 1900, 'catalogue': 685, 'gprs': 1928, 'bluetooth': 488, 'birth': 461, 'immediate': 2180, 'essex': 1514, 'fashion': 1646, 'designer': 1203, 'florida': 1738, 'painting': 3178, 'disney': 1274, 'shark': 4012, 'tale': 4414, 'pin': 3301, 'tighten': 4521, 'shopper': 4035, 'implementation': 2189, 'plastic': 3320, 'altogether': 153, 'scam': 3907, 'holmes': 2097, 'accolade': 29, 'personality': 3268, 'lenovo': 2566, 'dell': 1169, 'margin': 2716, 'impressed': 2197, 'tomorrow': 4541, 'ruud': 3864, 'nistelrooy': 3014, 'shout': 4044, 'wayne': 4859, 'rooney': 3830, 'ronaldo': 3826, 'ryan': 3866, 'giggs': 1896, 'turkey': 4642, 'motivation': 2896, 'wealth': 4863, 'photographer': 3291, 'max': 2751, 'jurgen': 2427, 'den': 1182, 'handle': 2004, 'mm': 2858, 'automatically': 328, 'daniel': 1104, 'documentary': 1295, 'beautiful': 403, 'costume': 1012, 'alfa': 129, 'dismantle': 1272, 'insult': 2280, 'extreme': 1608, 'integrity': 2286, 'iran': 2329, 'alleged': 136, 'hidden': 2064, 'gallery': 1840, 'exhibition': 1570, 'savage': 3900, 'aragones': 237, 'fin': 1699, 'henry': 2057, 'maximum': 2752, 'reyes': 3772, 'arsene': 264, 'wenger': 4882, 'cheat': 740, 'promotional': 3486, 'norman': 3028, 'expose': 1597, 'bath': 393, 'embargo': 1441, 'prediction': 3402, 'criterion': 1047, 'ancram': 176, 'chepkemei': 746, 'susan': 4376, 'kenyan': 2454, 'paula': 3226, 'radcliffe': 3567, 'depth': 1196, 'ethiopia': 1521, 'turner': 4646, 'dublin': 1354, 'eric': 1506, 'rare': 3586, 'nathalie': 2953, 'dechy': 1135, 'bookmaker': 511, 'succession': 4325, 'insider': 2266, 'odds': 3066, 'fame': 1631, 'hugh': 2136, 'melzer': 2781, 'melbourne': 2780, 'disruption': 1278, 'resident': 3728, 'asylum': 294, 'seeker': 3961, 'conviction': 990, 'oblige': 3053, 'registration': 3661, 'fish': 1720, 'biopic': 459, 'jennifer': 2376, 'romantic': 3822, 'shall': 4005, 'guild': 1974, 'destination': 1209, 'qualifier': 3542, 'gardener': 1855, 'aaas': 1, 'dig': 1238, 'infection': 2243, 'claxton': 791, 'mcilroy': 2761, 'sotherton': 4153, 'steroid': 4255, 'leap': 2539, 'idowu': 2167, 'indoors': 2237, 'steady': 4246, 'promptly': 3488, 'citizenship': 777, 'aaa': 0, 'accusation': 35, 'devon': 1227, 'animal': 192, 'farm': 1642, 'rifle': 3783, 'conversation': 986, 'bobby': 496, 'desperately': 1207, 'confusion': 923, 'aircraft': 116, 'airbus': 115, 'boeing': 498, 'arise': 251, 'plane': 3314, 'nielsen': 3005, 'animated': 193, 'modem': 2864, 'engineer': 1474, 'usb': 4736, 'norfolk': 3025, 'integrate': 2284, 'attraction': 311, 'downloads': 1323, 'magic': 2676, 'christ': 760, 'warrior': 4848, 'somewhat': 4142, 'symbol': 4403, 'kit': 2477, 'celebration': 702, 'scrum': 3937, 'smile': 4118, 'excellent': 1555, 'awesome': 341, 'flaw': 1731, 'exploit': 1590, 'springbok': 4209, 'method': 2804, 'swansea': 4387, 'thriller': 4507, 'unbeaten': 4676, 'floor': 1737, 'urgent': 4732, 'embarrass': 1443, 'wembley': 4881, 'hansen': 2010, 'thwart': 4515, 'telco': 4446, 'iptv': 2327, 'protocol': 3507, 'compression': 894, 'potentially': 3385, 'bollywood': 501, 'sbc': 3905, 'stade': 4224, 'dragon': 1329, 'hal': 1988, 'luscombe': 2660, 'endorse': 1465, 'laporte': 2512, 'yannick': 4976, 'rougerie': 3833, 'pelous': 3239, 'dominici': 1304, 'delaigue': 1161, 'yachvili': 4974, 'betsen': 442, 'bourgoin': 528, 'harinordoquy': 2018, 'michalak': 2810, 'shanklin': 4008, 'sidoli': 4056, 'yapp': 4977, 'angola': 189, 'grip': 1956, 'trace': 4571, 'clearance': 795, 'marque': 2725, 'reconstruction': 3626, 'pattern': 3224, 'gunner': 1979, 'gradually': 1932, 'sitcom': 4084, 'comedian': 847, 'metropolitan': 2806, 'nicholas': 3001, 'sceptical': 3914, 'napster': 2948, 'gary': 1858, 'kerry': 2456, 'fed': 1660, 'kenya': 2453, 'conventional': 984, 'roof': 3828, 'vastly': 4759, 'domain': 1299, 'interface': 2302, 'knowledge': 2485, 'brewer': 553, 'beer': 408, 'mature': 2748, 'dividend': 1289, 'continued': 970, 'poland': 3343, 'merrill': 2799, 'lynch': 2664, 'windows': 4915, 'worm': 4951, 'canadian': 641, 'usual': 4743, 'cycle': 1085, 'theory': 4488, 'overwhelm': 3158, 'ons': 3094, 'carolina': 670, 'kluft': 2478, 'smash': 4117, 'fraser': 1796, 'ashley': 271, 'tariff': 4422, 'tindall': 4526, 'noon': 3024, 'cement': 706, 'eastern': 1384, 'presence': 3416, 'tonne': 4543, 'munster': 2925, 'captaincy': 654, 'imagine': 2177, 'copyright': 1000, 'copying': 999, 'cd': 696, 'educate': 1404, 'awareness': 339, 'silva': 4064, 'arnold': 255, 'labor': 2494, 'prior': 3443, 'caution': 692, 'unveils': 4719, 'civilian': 780, 'airport': 118, 'ge': 1868, 'variant': 4754, 'journey': 2407, 'hub': 2133, 'patricia': 3221, 'keith': 2447, 'myskina': 2941, 'fernando': 1675, 'rubber': 3844, 'mario': 2720, 'wrist': 4963, 'venus': 4768, 'probe': 3455, 'francisco': 1792, 'detailed': 1213, 'architecture': 241, 'gambling': 1843, 'casino': 681, 'complex': 887, 'default': 1147, 'pr': 3394, 'counter': 1017, 'espn': 1512, 'ea': 1369, 'sims': 4073, 'similarly': 4067, 'stir': 4263, 'active': 46, 'landscape': 2506, 'virtual': 4801, 'licensing': 2587, 'graphical': 1941, 'satisfied': 3895, 'mode': 2862, 'interesting': 2301, 'stable': 4223, 'truly': 4629, 'conversion': 987, 'boot': 514, 'touchline': 4555, 'halfway': 1990, 'clever': 798, 'outcome': 3134, 'gareth': 1856, 'fortnight': 1772, 'podcast': 3339, 'downloadable': 1321, 'microphone': 2812, 'curry': 1078, 'scar': 3910, 'podcasts': 3340, 'hype': 2151, 'ron': 3825, 'wow': 4960, 'buck': 590, 'advertise': 79, 'coffee': 826, 'meps': 2793, 'billboard': 452, 'lucrative': 2656, 'sophisticated': 4149, 'denmark': 1185, 'hdtv': 2030, 'drummer': 1347, 'sean': 3943, 'plug': 3334, 'eat': 1387, 'embassy': 1444, 'wash': 4849, 'seller': 3967, 'ringtones': 3789, 'flynn': 1742, 'rack': 3566, 'regulatory': 3668, 'transparency': 4593, 'harris': 2022, 'spectator': 4181, 'hoddle': 2086, 'gray': 1943, 'saint': 3878, 'lure': 2659, 'cairn': 626, 'ftse': 1821, 'hire': 2077, 'pentagon': 3246, 'virginia': 4800, 'apologise': 216, 'fate': 1650, 'truth': 4632, 'catholic': 690, 'compensation': 876, 'campaigner': 637, 'preliminary': 3406, 'provoke': 3515, 'damaging': 1095, 'macintosh': 2668, 'flash': 1729, 'capitalise': 651, 'fuss': 1835, 'superior': 4350, 'sideways': 4055, 'heap': 2039, 'clint': 805, 'eastwood': 1385, 'alexander': 128, 'payne': 3231, 'screenplay': 3934, 'abortion': 11, 'garden': 1854, 'fahrenheit': 1620, 'consistently': 938, 'finding': 1708, 'fighter': 1690, 'bulk': 597, 'rogue': 3816, 'failed': 1622, 'warcraft': 4841, 'jamelia': 2361, 'bomb': 503, 'abba': 3, 'albeit': 123, 'occupy': 3061, 'regional': 3659, 'levy': 2575, 'troop': 4624, 'writing': 4966, 'fletcher': 1732, 'strange': 4274, 'mary': 2735, 'honorary': 2105, 'angel': 185, 'compromise': 896, 'overwhelming': 3159, 'hunter': 2143, 'locally': 2626, 'shake': 4004, 'tremor': 4606, 'compute': 898, 'ghosn': 1890, 'renault': 3697, 'turnaround': 4645, 'le': 2530, 'transition': 4589, 'implement': 2188, 'gender': 1870, 'stamp': 4231, 'allowance': 141, 'lender': 2561, 'knapman': 2479, 'comprise': 895, 'petroleum': 3276, 'bump': 598, 'junk': 2425, 'idle': 2165, 'denial': 1183, 'sleep': 4097, 'cluley': 819, 'sophos': 4150, 'na': 2942, 'richards': 3778, 'backbencher': 349, 'pave': 3228, 'strict': 4286, 'metre': 2805, 'exclude': 1564, 'dick': 1232, 'presidency': 3421, 'shortfall': 4039, 'transport': 4595, 'republican': 3718, 'senator': 3968, 'jeff': 2374, 'wear': 4865, 'dress': 1336, 'baftas': 357, 'thrill': 4506, 'ruck': 3846, 'spill': 4192, 'interval': 2308, 'joel': 2386, 'spike': 4191, 'ossie': 3129, 'jungle': 2422, 'humour': 2139, 'clothing': 816, 'dallaglio': 1092, 'lawrence': 2525, 'assure': 292, 'crop': 1052, 'grade': 1931, 'el': 1419, 'prominent': 3480, 'brief': 557, 'andre': 178, 'agassi': 98, 'compile': 882, 'quirky': 3557, 'pete': 3273, 'rem': 3688, 'lad': 2498, 'eager': 1370, 'baroness': 382, 'menzies': 2791, 'campbell': 639, 'disclosure': 1261, 'shed': 4019, 'shrek': 4049, 'jeeves': 2373, 'compatible': 874, 'bright': 561, 'immense': 2182, 'toll': 4537, 'abbott': 5, 'bskyb': 587, 'glazer': 1903, 'expire': 1586, 'premiere': 3408, 'acquire': 41, 'fulfil': 1823, 'extensive': 1603, 'cripple': 1045, 'restructure': 3749, 'coal': 822, 'textile': 4478, 'pit': 3308, 'tender': 4463, 'counterfeit': 1018, 'monetary': 2872, 'livingstone': 2616, 'nazi': 2962, 'wright': 4962, 'gay': 1864, 'restaurant': 3745, 'mpc': 2912, 'halifax': 1991, 'shaw': 4017, 'concerned': 906, 'archer': 240, 'cbi': 694, 'commodity': 863, 'item': 2350, 'reliance': 3681, 'lush': 2661, 'consume': 954, 'brazil': 545, 'deccan': 1132, 'clause': 790, 'ryanair': 3867, 'entrepreneur': 1492, 'backing': 352, 'literally': 2611, 'outbreak': 3133, 'electric': 1425, 'cebit': 699, 'workplace': 4947, 'convenient': 982, 'xp': 4972, 'samsung': 3885, 'analogue': 173, 'megapixel': 2778, 'interact': 2295, 'sole': 4131, 'shoe': 4030, 'clothes': 815, 'anderson': 177, 'freeman': 1803, 'comprehensive': 892, 'austrian': 323, 'saulnier': 3899, 'haas': 1981, 'balco': 364, 'conte': 959, 'defendant': 1151, 'fiji': 1693, 'motion': 2894, 'financing': 1706, 'advisor': 84, 'injunction': 2256, 'climate': 802, 'davos': 1116, 'jacques': 2357, 'chirac': 756, 'elect': 1421, 'palestinian': 3183, 'abbas': 4, 'bono': 508, 'refugee': 3651, 'porto': 3369, 'outsource': 3145, 'spy': 4214, 'fat': 1649, 'valuable': 4750, 'tribunal': 4610, 'ericsson': 1507, 'walkman': 4834, 'strain': 4273, 'beatles': 401, 'tree': 4603, 'sentiment': 3976, 'height': 2049, 'casual': 684, 'detect': 1216, 'sent': 3974, 'israeli': 2346, 'baghdad': 359, 'fannie': 1637, 'mae': 2673, 'irregularity': 2337, 'restate': 3744, 'reporting': 3713, 'auditor': 318, 'instrument': 2279, 'freddie': 1798, 'handful': 2001, 'surely': 4360, 'conspiracy': 942, 'participate': 3199, 'enron': 1482, 'feud': 1680, 'presley': 3424, 'experiment': 1584, 'creature': 1038, 'physic': 3292, 'franchise': 1791, 'rightly': 3787, 'umbrella': 4670, 'deem': 1144, 'arthur': 266, 'neeson': 2970, 'belfast': 418, 'referendum': 3646, 'planned': 3316, 'carnival': 669, 'arab': 235, 'iraqi': 2332, 'baa': 346, 'aviation': 332, 'heathrow': 2045, 'cartridge': 678, 'hp': 2131, 'printer': 3442, 'secretly': 3953, 'empty': 1459, 'render': 3698, 'nortel': 3029, 'telecoms': 4449, 'echo': 1391, 'grace': 1930, 'technically': 4439, 'menu': 2790, 'emi': 1449, 'toy': 4568, 'chemical': 745, 'sm': 4114, 'morquendi': 2887, 'excess': 1558, 'dedicated': 1143, 'concept': 904, 'eligible': 1432, 'trek': 4604, 'coalition': 823, 'hell': 2052, 'notify': 3040, 'gregory': 1952, 'ioannidis': 2324, 'carroll': 674, 'tuition': 4637, 'spectrum': 4182, 'warren': 4847, 'jowell': 2408, 'academic': 19, 'ladbrokes': 2499, 'dancer': 1100, 'bez': 445, 'backer': 350, 'initial': 2253, 'freedom': 1801, 'venezuela': 4763, 'venezuelan': 4764, 'chavez': 738, 'agricultural': 107, 'promoter': 3484, 'brando': 542, 'correct': 1006, 'banker': 372, 'kilroy': 2470, 'swing': 4397, 'bureaucracy': 601, 'threshold': 4505, 'cannes': 645, 'mess': 2800, 'rubbish': 3845, 'olly': 3087, 'barkley': 381, 'da': 1089, 'broker': 577, 'detain': 1214, 'burglar': 603, 'householder': 2125, 'artificial': 268, 'kicker': 2465, 'proposed': 3497, 'icann': 2155, 'postal': 3381, 'tourism': 4561, 'legitimate': 2556, 'sheer': 4020, 'malicious': 2692, 'pump': 3526, 'infected': 2242, 'usage': 4735, 'hooker': 2108, 'outing': 3137, 'uphold': 4724, 'cop': 995, 'holocaust': 2098, 'ira': 2328, 'islamic': 2341, 'participation': 3200, 'invisible': 2320, 'blood': 485, 'surveillance': 4371, 'swear': 4389, 'opposite': 3109, 'remind': 3694, 'extremist': 1610, 'sadly': 3871, 'respondent': 3739, 'islam': 2340, 'assumption': 290, 'survivor': 4375, 'pirated': 3306, 'phonographic': 3288, 'bpi': 537, 'profitability': 3471, 'restructuring': 3750, 'blur': 490, 'unity': 4705, 'wmc': 4931, 'mining': 2841, 'xstrata': 4973, 'deposit': 1193, 'delete': 1164, 'toulouse': 4558, 'closure': 814, 'mirza': 2849, 'bulgaria': 596, 'neill': 2976, 'arnesen': 254, 'robson': 3808, 'kay': 2440, 'gervais': 1888, 'dec': 1130, 'pompey': 3354, 'redknapp': 3637, 'yahoo': 4975, 'arena': 245, 'blinkx': 478, 'license': 2586, 'estate': 1516, 'ranch': 3577, 'verge': 4771, 'surprised': 4368, 'imf': 2179, 'straightforward': 4272, 'lewis': 2576, 'moody': 2881, 'dawson': 1118, 'borthwick': 519, 'hazell': 2028, 'credibility': 1039, 'concession': 908, 'revolution': 3770, 'sick': 4052, 'congratulate': 924, 'ism': 2344, 'whitehall': 4894, 'participant': 3198, 'boateng': 494, 'laser': 2516, 'location': 2627, 'billionaire': 454, 'explode': 1589, 'harsh': 2025, 'nasdaq': 2951, 'representation': 3715, 'equality': 1499, 'emotion': 1451, 'reflection': 3649, 'bittorrent': 465, 'alter': 150, 'shine': 4027, 'anil': 191, 'ambani': 158, 'compliance': 888, 'poppins': 3359, 'laura': 2523, 'compress': 893, 'telephony': 4453, 'firewall': 1715, 'healey': 2035, 'biarritz': 446, 'leslie': 2568, 'begg': 409, 'mubanga': 2919, 'ward': 4842, 'realistic': 3605, 'morientes': 2885, 'rafa': 3570, 'confess': 915, 'tycoon': 4655, 'poise': 3342, 'fcc': 1656, 'shopping': 4036, 'whereas': 4888, 'gameboy': 1845, 'madonna': 2671, 'elton': 1438, 'vega': 4760, 'strip': 4292, 'mouth': 2904, 'contractor': 972, 'improved': 2201, 'shooting': 4033, 'chaos': 726, 'bury': 607, 'everquest': 1538, 'sad': 3870, 'fade': 1618, 'mcmanus': 2763, 'magnier': 2677, 'harrier': 2021, 'marion': 2721, 'ongc': 3091, 'permanent': 3261, 'bravery': 544, 'duran': 1363, 'santini': 3891, 'tricky': 4613, 'assistance': 284, 'cartoon': 677, 'thinking': 4494, 'stun': 4303, 'donofrio': 1307, 'mobility': 2860, 'integral': 2283, 'gogh': 1916, 'inbev': 2205, 'actual': 51, 'intent': 2293, 'bnp': 492, 'traveller': 4598, 'attach': 301, 'mcletchie': 2762, 'betamax': 441, 'graeme': 1934, 'rio': 3790, 'neville': 2989, 'finnish': 1712, 'flood': 1736, 'greet': 1950, 'qualification': 3541, 'willis': 4909, 'uncertain': 4677, 'discriminate': 1265, 'bening': 431, 'swank': 4386, 'niro': 3012, 'nalbandian': 2945, 'perceive': 3250, 'sarah': 3893, 'carers': 664, 'migrant': 2822, 'migration': 2823, 'backwards': 353, 'simultaneously': 4074, 'hiv': 2084, 'reassure': 3611, 'continent': 967, 'vivendi': 4811, 'doherty': 1297, 'austria': 322, 'rodgers': 3814, 'pires': 3307, 'phenomenal': 3280, 'greenspan': 1949, 'rom': 3819, 'jailhouse': 2359, 'telewest': 4456, 'terrestrial': 4468, 'bmw': 491, 'instruction': 2278, 'mpaa': 2911, 'tracker': 4573, 'interaction': 2296, 'isinbayeva': 2339, 'supercomputer': 4349, 'abc': 6, 'army': 253, 'tautou': 4426, 'vinci': 4793, 'ba': 345, 'airway': 119, 'misuse': 2854, 'demographic': 1177, 'viacom': 4778, 'nbc': 2963, 'ridiculous': 3782, 'quinn': 3556, 'ppi': 3393, 'janet': 2366, 'jacket': 2355, 'cea': 698, 'samoa': 3883, 'ministerial': 2843, 'wallace': 4836, 'showcase': 4046, 'ferrero': 1676, 'hijack': 2071, 'geoff': 1881, 'bogdanovic': 500, 'deaf': 1123, 'buying': 617, 'packet': 3171, 'briefing': 558, 'borussia': 521, 'dortmund': 1313, 'seagrave': 3941, 'hacker': 1984, 'bot': 525, 'commodore': 864, 'doom': 1309, 'mel': 2779, 'hsdpa': 2132, 'frequency': 1807, 'silicon': 4063, 'showcasing': 4047, 'pride': 3435, 'meant': 2767, 'macrovision': 2669, 'ripguard': 3793, 'ebay': 1388, 'bailey': 362, 'custom': 1081, 'veritas': 4772, 'midland': 2818, 'hockney': 2085, 'prosperity': 3502, 'supermarket': 4351, 'almunia': 144, 'eviction': 1545, 'mido': 2820, 'trojan': 4622, 'walter': 4838, 'billy': 455, 'riot': 3791, 'guerrouj': 1968, 'policing': 3346, 'constable': 943, 'murderer': 2927, 'nuisance': 3046, 'csos': 1063, 'cyprus': 1087, 'fuller': 1826, 'leinster': 2560, 'fsa': 1820, 'disclose': 1260, 'conti': 966, 'orchestra': 3116, 'recycle': 3633, 'inadequate': 2203, 'eff': 1408, 'chidambaram': 749, 'patenting': 3217, 'distract': 1280, 'bekele': 417, 'ethiopian': 1522, 'polish': 3348, 'lisa': 2605, 'nestle': 2981, 'iconic': 2158, 'jazz': 2372, 'jaynes': 2371, 'useless': 4740, 'unaware': 4675, 'newton': 2996, 'spyware': 4215, 'phishing': 3285, 'impetus': 2187, 'ahold': 110, 'hansard': 2009, 'televise': 4454, 'unauthorised': 4674, 'elgindy': 1431, 'wooden': 4939, 'skype': 4094, 'landline': 2504, 'qwest': 3562, 'mci': 2760, 'verizon': 4773, 'spurlock': 4213, 'lufthansa': 2657, 'tci': 4432, 'redford': 3636, 'sundance': 4343, 'amicus': 164, 'indecency': 2220, 'llewellyn': 2618, 'scarlet': 3912, 'mda': 2764, 'grasp': 1942, 'cabir': 623, 'symbian': 4402, 'pew': 3277, 'desailly': 1199, 'godzilla': 1915, 'rwanda': 3865, 'login': 2630, 'valve': 4752, 'parmalat': 3195, 'iranian': 2330, 'turkcell': 4641, 'milk': 2830, 'lehmann': 2557, 'toure': 4560, 'galloway': 1841, 'meaning': 2766, 'dtt': 1350, 'hd': 2029, 'cab': 621, 'cyber': 1084, 'outkast': 3138, 'roundabout': 3836, 'nostalgia': 3035, 'mock': 2861, 'psychological': 3517, 'ioc': 2325, 'worthwhile': 4958, 'vieira': 4787, 'paniccia': 3186, 'umaga': 4669, 'jol': 2395, 'nelly': 2978, 'clarkson': 785, 'legendary': 2554, 'rfid': 3774, 'telekom': 4451, 'beattie': 402, 'reggae': 3655, 'southcorp': 4160, 'cardinal': 659, 'inspector': 2269, 'fockers': 1743, 'password': 3213, 'dennis': 1186, 'ballet': 366, 'viotti': 4798, 'fenice': 1672, 'tb': 4431, 'faroe': 1644, 'toulousain': 4557, 'bloglines': 484, 'lanzone': 2511, 'lira': 2604, 'unilever': 4698, 'csi': 1062, 'quango': 3545, 'fightstar': 1691, 'forensic': 1760, 'trusted': 4631, 'nair': 2944, 'hailey': 1987, 'anelka': 183, 'dundee': 1360, 'honda': 2102, 'adriano': 72, 'pacific': 3168, 'vogts': 4815, 'peoplesoft': 3248, 'edu': 1403, 'feta': 1679, 'exeem': 1567, 'sloncek': 4105, 'regiment': 3657, 'uwb': 4747, 'bjorn': 467, 'powys': 3392, 'hitachi': 2082, 'asimo': 275}\n"
     ]
    }
   ],
   "source": [
    "Tfidf_vect = TfidfVectorizer(max_features=5000)\n",
    "Tfidf_vect.fit(Corpus['text_final'])\n",
    "Train_X_Tfidf = Tfidf_vect.transform(Train_X)\n",
    "Test_X_Tfidf = Tfidf_vect.transform(Test_X)\n",
    "\n",
    "print(Tfidf_vect.vocabulary_)"
   ]
  },
  {
   "cell_type": "code",
   "execution_count": null,
   "id": "bcd233e6",
   "metadata": {},
   "outputs": [],
   "source": [
    "#print(Train_X_Tfidf)"
   ]
  },
  {
   "cell_type": "code",
   "execution_count": 12,
   "id": "f3386b54",
   "metadata": {},
   "outputs": [],
   "source": [
    "from sklearn  import ensemble\n",
    "from sklearn.metrics import mean_squared_error,mean_absolute_error,mean_absolute_error, r2_score\n",
    "def Set_score(algoname,yPredicted):\n",
    "    return algoname, round(accuracy_score(Test_Y, yPredicted),3) , round(mean_absolute_error(Test_Y, yPredicted),3), round(mean_squared_error(Test_Y, yPredicted),3), round(np.sqrt(mean_squared_error(Test_Y, yPredicted)),3)\n",
    "\n",
    "score=[]"
   ]
  },
  {
   "cell_type": "code",
   "execution_count": 13,
   "id": "f9fbb87d",
   "metadata": {},
   "outputs": [
    {
     "name": "stdout",
     "output_type": "stream",
     "text": [
      "Naive Bayes Accuracy Score ->  97.30538922155688\n"
     ]
    }
   ],
   "source": [
    "# fit the training dataset on the NB classifier\n",
    "Naive = naive_bayes.MultinomialNB()\n",
    "Naive.fit(Train_X_Tfidf,Train_Y)\n",
    "# predict the labels on validation dataset\n",
    "predictions_NB = Naive.predict(Test_X_Tfidf)\n",
    "# Use accuracy_score function to get the accuracy\n",
    "print(\"Naive Bayes Accuracy Score -> \",accuracy_score(predictions_NB, Test_Y)*100)\n",
    "score.append(Set_score(\"Naive Bayes\",predictions_NB))"
   ]
  },
  {
   "cell_type": "code",
   "execution_count": 14,
   "id": "88a7aafe",
   "metadata": {},
   "outputs": [
    {
     "data": {
      "text/plain": [
       "(1557, 5000)"
      ]
     },
     "execution_count": 14,
     "metadata": {},
     "output_type": "execute_result"
    }
   ],
   "source": [
    "Train_X_Tfidf.shape"
   ]
  },
  {
   "cell_type": "code",
   "execution_count": 15,
   "id": "e4f56635",
   "metadata": {},
   "outputs": [
    {
     "name": "stdout",
     "output_type": "stream",
     "text": [
      "              precision    recall  f1-score   support\n",
      "\n",
      "           0       0.97      0.96      0.97       161\n",
      "           1       0.99      0.98      0.99       120\n",
      "           2       0.94      0.97      0.95       125\n",
      "           3       0.99      0.99      0.99       136\n",
      "           4       0.98      0.96      0.97       126\n",
      "\n",
      "    accuracy                           0.97       668\n",
      "   macro avg       0.97      0.97      0.97       668\n",
      "weighted avg       0.97      0.97      0.97       668\n",
      "\n"
     ]
    }
   ],
   "source": [
    "print(classification_report(Test_Y, predictions_NB))"
   ]
  },
  {
   "cell_type": "markdown",
   "id": "506c976c",
   "metadata": {},
   "source": [
    "from sklearn.ensemble import RandomForestClassifier\n",
    "from yellowbrick.classifier import ClassPredictionError\n",
    "# Instantiate the classification model and visualizer\n",
    "visualizer = ClassPredictionError(Naive, classes=Encoder.classes_)\n",
    "\n",
    "# Fit the training data to the visualizer\n",
    "visualizer.fit(Train_X_Tfidf,Train_Y)\n",
    "\n",
    "# Evaluate the model on the test data\n",
    "visualizer.score(Test_X_Tfidf, Test_Y)\n",
    "\n",
    "# Draw visualization\n",
    "g = visualizer.poof()"
   ]
  },
  {
   "cell_type": "code",
   "execution_count": 16,
   "id": "412e6474",
   "metadata": {},
   "outputs": [
    {
     "name": "stdout",
     "output_type": "stream",
     "text": [
      "SVM Accuracy Score ->  98.35329341317365\n"
     ]
    }
   ],
   "source": [
    "# Classifier - Algorithm - SVM\n",
    "# fit the training dataset on the classifier\n",
    "SVM = svm.SVC(C=1.0, kernel='linear', degree=3, gamma='auto')\n",
    "SVM.fit(Train_X_Tfidf,Train_Y)\n",
    "# predict the labels on validation dataset\n",
    "predictions_SVM = SVM.predict(Test_X_Tfidf)\n",
    "# Use accuracy_score function to get the accuracy\n",
    "print(\"SVM Accuracy Score -> \",accuracy_score(predictions_SVM, Test_Y)*100)\n",
    "score.append(Set_score(\"SVM\",predictions_SVM))"
   ]
  },
  {
   "cell_type": "code",
   "execution_count": 17,
   "id": "618f7d45",
   "metadata": {},
   "outputs": [
    {
     "name": "stdout",
     "output_type": "stream",
     "text": [
      "              precision    recall  f1-score   support\n",
      "\n",
      "           0       0.97      0.96      0.97       161\n",
      "           1       0.98      1.00      0.99       120\n",
      "           2       0.98      0.98      0.98       125\n",
      "           3       0.99      0.99      0.99       136\n",
      "           4       0.99      0.99      0.99       126\n",
      "\n",
      "    accuracy                           0.98       668\n",
      "   macro avg       0.98      0.98      0.98       668\n",
      "weighted avg       0.98      0.98      0.98       668\n",
      "\n"
     ]
    }
   ],
   "source": [
    "print(classification_report(Test_Y,predictions_SVM))"
   ]
  },
  {
   "cell_type": "code",
   "execution_count": 18,
   "id": "29a94848",
   "metadata": {},
   "outputs": [
    {
     "data": {
      "text/plain": [
       "[('Naive Bayes', 0.973, 0.058, 0.151, 0.389),\n",
       " ('SVM', 0.984, 0.034, 0.085, 0.292)]"
      ]
     },
     "execution_count": 18,
     "metadata": {},
     "output_type": "execute_result"
    }
   ],
   "source": [
    "score"
   ]
  },
  {
   "cell_type": "code",
   "execution_count": 19,
   "id": "870003a4",
   "metadata": {},
   "outputs": [
    {
     "name": "stdout",
     "output_type": "stream",
     "text": [
      "DecisionTree Accuracy Score ->  81.2874251497006\n"
     ]
    }
   ],
   "source": [
    "# fit the training dataset on the Decision Tree classifier\n",
    "from sklearn.tree import DecisionTreeClassifier\n",
    "classifier_tr = DecisionTreeClassifier(criterion = 'entropy', random_state = 0)\n",
    "classifier_tr.fit(Train_X_Tfidf,Train_Y)\n",
    "y_pred_dt = classifier_tr.predict(Test_X_Tfidf)\n",
    "print(\"DecisionTree Accuracy Score -> \",accuracy_score(y_pred_dt, Test_Y)*100)\n",
    "score.append(Set_score(\"DecisionTree\",y_pred_dt))"
   ]
  },
  {
   "cell_type": "code",
   "execution_count": 20,
   "id": "bf83be35",
   "metadata": {},
   "outputs": [
    {
     "name": "stdout",
     "output_type": "stream",
     "text": [
      "Random Forest Accuracy Score ->  92.51497005988024\n"
     ]
    }
   ],
   "source": [
    "# fit the training dataset on the Random Forest classifier\n",
    "from sklearn.ensemble import RandomForestClassifier\n",
    "classifier_rf = RandomForestClassifier(n_estimators = 10, criterion = 'entropy'\n",
    "                                       , random_state = 0)\n",
    "classifier_rf.fit(Train_X_Tfidf,Train_Y)\n",
    "y_pred_RF = classifier_rf.predict(Test_X_Tfidf)\n",
    "print(\"Random Forest Accuracy Score -> \",accuracy_score(y_pred_RF, Test_Y)*100)\n",
    "score.append(Set_score(\"Random Forest\",y_pred_RF))\n"
   ]
  },
  {
   "cell_type": "code",
   "execution_count": 21,
   "id": "fc10e393",
   "metadata": {},
   "outputs": [
    {
     "name": "stdout",
     "output_type": "stream",
     "text": [
      "KNN Accuracy Score ->  94.76047904191617\n"
     ]
    }
   ],
   "source": [
    "# Training the K-NN model on the Training set\n",
    "from sklearn.neighbors import KNeighborsClassifier\n",
    "classifier_KNN = KNeighborsClassifier(n_neighbors = 5, metric = 'minkowski', p = 2)\n",
    "classifier_KNN.fit(Train_X_Tfidf,Train_Y)\n",
    "# predict the labels on validation dataset\n",
    "predictions_KNN = classifier_KNN.predict(Test_X_Tfidf)\n",
    "# Use accuracy_score function to get the accuracy\n",
    "print(\"KNN Accuracy Score -> \",accuracy_score(predictions_KNN, Test_Y)*100)\n",
    "score.append(Set_score(\"KNN\",predictions_KNN))"
   ]
  },
  {
   "cell_type": "code",
   "execution_count": null,
   "id": "067386e0",
   "metadata": {},
   "outputs": [],
   "source": []
  },
  {
   "cell_type": "code",
   "execution_count": 22,
   "id": "91bc71d7",
   "metadata": {},
   "outputs": [
    {
     "data": {
      "text/html": [
       "<div>\n",
       "<style scoped>\n",
       "    .dataframe tbody tr th:only-of-type {\n",
       "        vertical-align: middle;\n",
       "    }\n",
       "\n",
       "    .dataframe tbody tr th {\n",
       "        vertical-align: top;\n",
       "    }\n",
       "\n",
       "    .dataframe thead th {\n",
       "        text-align: right;\n",
       "    }\n",
       "</style>\n",
       "<table border=\"1\" class=\"dataframe\">\n",
       "  <thead>\n",
       "    <tr style=\"text-align: right;\">\n",
       "      <th></th>\n",
       "      <th>Model</th>\n",
       "      <th>accuracy_score</th>\n",
       "      <th>MAE</th>\n",
       "      <th>MSE</th>\n",
       "      <th>RMSE</th>\n",
       "    </tr>\n",
       "  </thead>\n",
       "  <tbody>\n",
       "    <tr>\n",
       "      <th>0</th>\n",
       "      <td>Naive Bayes</td>\n",
       "      <td>0.973</td>\n",
       "      <td>0.058</td>\n",
       "      <td>0.151</td>\n",
       "      <td>0.389</td>\n",
       "    </tr>\n",
       "    <tr>\n",
       "      <th>1</th>\n",
       "      <td>SVM</td>\n",
       "      <td>0.984</td>\n",
       "      <td>0.034</td>\n",
       "      <td>0.085</td>\n",
       "      <td>0.292</td>\n",
       "    </tr>\n",
       "    <tr>\n",
       "      <th>2</th>\n",
       "      <td>DecisionTree</td>\n",
       "      <td>0.813</td>\n",
       "      <td>0.401</td>\n",
       "      <td>1.054</td>\n",
       "      <td>1.027</td>\n",
       "    </tr>\n",
       "    <tr>\n",
       "      <th>3</th>\n",
       "      <td>Random Forest</td>\n",
       "      <td>0.925</td>\n",
       "      <td>0.166</td>\n",
       "      <td>0.478</td>\n",
       "      <td>0.691</td>\n",
       "    </tr>\n",
       "    <tr>\n",
       "      <th>4</th>\n",
       "      <td>KNN</td>\n",
       "      <td>0.948</td>\n",
       "      <td>0.117</td>\n",
       "      <td>0.311</td>\n",
       "      <td>0.558</td>\n",
       "    </tr>\n",
       "  </tbody>\n",
       "</table>\n",
       "</div>"
      ],
      "text/plain": [
       "           Model  accuracy_score    MAE    MSE   RMSE\n",
       "0    Naive Bayes           0.973  0.058  0.151  0.389\n",
       "1            SVM           0.984  0.034  0.085  0.292\n",
       "2   DecisionTree           0.813  0.401  1.054  1.027\n",
       "3  Random Forest           0.925  0.166  0.478  0.691\n",
       "4            KNN           0.948  0.117  0.311  0.558"
      ]
     },
     "execution_count": 22,
     "metadata": {},
     "output_type": "execute_result"
    }
   ],
   "source": [
    "pd.DataFrame(score, columns=['Model', 'accuracy_score', 'MAE', 'MSE', 'RMSE'])"
   ]
  },
  {
   "cell_type": "code",
   "execution_count": 23,
   "id": "fcd61428",
   "metadata": {},
   "outputs": [
    {
     "data": {
      "text/plain": [
       "<AxesSubplot: xlabel='Model'>"
      ]
     },
     "execution_count": 23,
     "metadata": {},
     "output_type": "execute_result"
    },
    {
     "data": {
      "image/png": "[encoded data removed]",
      "text/plain": [
       "<Figure size 600x400 with 1 Axes>"
      ]
     },
     "metadata": {},
     "output_type": "display_data"
    }
   ],
   "source": [
    "pd.DataFrame(score, columns=['Model','accuracy_score', 'MAE', 'MSE', 'RMSE']).plot(x=\"Model\"\n",
    "                                                                                   , y=[\"accuracy_score\", \"MAE\"]\n",
    "                                                                                   , kind=\"bar\", figsize=(6,4))"
   ]
  },
  {
   "cell_type": "code",
   "execution_count": null,
   "id": "b374059f",
   "metadata": {},
   "outputs": [],
   "source": []
  },
  {
   "cell_type": "code",
   "execution_count": null,
   "id": "de790327",
   "metadata": {},
   "outputs": [],
   "source": []
  }
 ],
 "metadata": {
  "kernelspec": {
   "display_name": "Python 3 (ipykernel)",
   "language": "python",
   "name": "python3"
  },
  "language_info": {
   "codemirror_mode": {
    "name": "ipython",
    "version": 3
   },
   "file_extension": ".py",
   "mimetype": "text/x-python",
   "name": "python",
   "nbconvert_exporter": "python",
   "pygments_lexer": "ipython3",
   "version": "3.9.13"
  }
 },
 "nbformat": 4,
 "nbformat_minor": 5
}
